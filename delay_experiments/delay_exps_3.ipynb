{
 "cells": [
  {
   "cell_type": "code",
   "execution_count": 1,
   "metadata": {},
   "outputs": [],
   "source": [
    "from qiskit import QuantumCircuit, QuantumRegister\n",
    "from qiskit.circuit import Parameter\n",
    "from qiskit_ibm_provider import IBMProvider\n",
    "from qiskit.transpiler.preset_passmanagers import generate_preset_pass_manager\n",
    "from qiskit.transpiler import PassManager, Layout\n",
    "from qiskit.transpiler.passes import SetLayout, ApplyLayout, ALAPSchedule, ALAPScheduleAnalysis, BasisTranslator, ASAPSchedule"
   ]
  },
  {
   "cell_type": "code",
   "execution_count": 2,
   "metadata": {},
   "outputs": [],
   "source": [
    "provider = IBMProvider()"
   ]
  },
  {
   "cell_type": "code",
   "execution_count": 3,
   "metadata": {},
   "outputs": [],
   "source": [
    "ibm_backend_name = 'ibmq_guadalupe'\n",
    "backend = provider.get_backend(ibm_backend_name)"
   ]
  },
  {
   "cell_type": "code",
   "execution_count": 4,
   "metadata": {},
   "outputs": [],
   "source": [
    "qregs = QuantumRegister(backend.num_qubits)\n",
    "delay_param = Parameter('t')"
   ]
  },
  {
   "attachments": {},
   "cell_type": "markdown",
   "metadata": {},
   "source": [
    "From backend props we can see that all single qubit operations take 160 dt. Let us make the delays multiples of this for convinience."
   ]
  },
  {
   "cell_type": "code",
   "execution_count": 5,
   "metadata": {},
   "outputs": [],
   "source": [
    "delays = [ 160, 320, 640, 1280, 2560, 5120, 10240 ]\n",
    "single_qubit_gate_duration = 160"
   ]
  },
  {
   "attachments": {},
   "cell_type": "markdown",
   "metadata": {},
   "source": [
    "# Empty Circuit"
   ]
  },
  {
   "cell_type": "code",
   "execution_count": 6,
   "metadata": {},
   "outputs": [],
   "source": [
    "empty_qc = QuantumCircuit(qregs, name='blank')\n",
    "empty_qc.measure_all()"
   ]
  },
  {
   "attachments": {},
   "cell_type": "markdown",
   "metadata": {},
   "source": [
    "# Circuit Setup"
   ]
  },
  {
   "cell_type": "code",
   "execution_count": 7,
   "metadata": {},
   "outputs": [],
   "source": [
    "def h_delay_h(middle_qc, qregs):\n",
    "    qc = QuantumCircuit(qregs, name='H, delay, H')\n",
    "    qc.h(qregs)\n",
    "    qc = qc.compose(middle_qc, qregs)\n",
    "    qc.h(qregs)\n",
    "    qc.measure_all()\n",
    "    return qc\n",
    "\n",
    "def sx_delay_sx_x(middle_qc, qregs):\n",
    "    qc = QuantumCircuit(qregs, name='sx, delay, sx, x')\n",
    "    qc.sx(qregs)\n",
    "    qc = qc.compose(middle_qc, qregs)\n",
    "    qc.sx(qregs)\n",
    "    qc.x(qregs)\n",
    "    qc.measure_all()\n",
    "    return qc"
   ]
  },
  {
   "attachments": {},
   "cell_type": "markdown",
   "metadata": {},
   "source": [
    "# Delay Circuits"
   ]
  },
  {
   "cell_type": "code",
   "execution_count": 8,
   "metadata": {},
   "outputs": [
    {
     "data": {
      "text/plain": [
       "<qiskit.circuit.instructionset.InstructionSet at 0x21e7f2eba60>"
      ]
     },
     "execution_count": 8,
     "metadata": {},
     "output_type": "execute_result"
    }
   ],
   "source": [
    "middle_qc = QuantumCircuit(qregs, name='delay')\n",
    "middle_qc.delay(delay_param, qregs)"
   ]
  },
  {
   "cell_type": "code",
   "execution_count": 9,
   "metadata": {},
   "outputs": [],
   "source": [
    "h_delay_h_qc = h_delay_h(middle_qc, qregs)\n",
    "sx_delay_sx_x_qc = sx_delay_sx_x(middle_qc, qregs)"
   ]
  },
  {
   "cell_type": "code",
   "execution_count": 10,
   "metadata": {},
   "outputs": [],
   "source": [
    "h_delay_h_qcs, sx_delay_sx_x_qcs = [], []\n",
    "\n",
    "for qc, qc_arr in zip((h_delay_h_qc, sx_delay_sx_x_qc), (h_delay_h_qcs, sx_delay_sx_x_qcs)):\n",
    "    qc_arr.extend([qc.bind_parameters({delay_param: delay}) for delay in delays])\n"
   ]
  },
  {
   "attachments": {},
   "cell_type": "markdown",
   "metadata": {},
   "source": [
    "# Pairs of X gates"
   ]
  },
  {
   "cell_type": "code",
   "execution_count": 11,
   "metadata": {},
   "outputs": [],
   "source": [
    "middle_qcs = []\n",
    "\n",
    "for delay in delays:\n",
    "    qc = QuantumCircuit(qregs, name='pair of X')\n",
    "    n = delay//(2*single_qubit_gate_duration)\n",
    "    for i in range(n):\n",
    "        qc.x(qregs)\n",
    "        qc.x(qregs)\n",
    "    middle_qcs.append(qc)"
   ]
  },
  {
   "cell_type": "code",
   "execution_count": 12,
   "metadata": {},
   "outputs": [],
   "source": [
    "h_xxxx_h_qcs, sx_xxxx_sx_x_qcs = [], []\n",
    "\n",
    "for middle_qc in middle_qcs:\n",
    "    h_delay_h_qc = h_delay_h(middle_qc, qregs)\n",
    "    h_xxxx_h_qcs.append(h_delay_h_qc)\n",
    "    sx_delay_sx_x_qc = sx_delay_sx_x(middle_qc, qregs)\n",
    "    sx_xxxx_sx_x_qcs.append(sx_delay_sx_x_qc)"
   ]
  },
  {
   "attachments": {},
   "cell_type": "markdown",
   "metadata": {},
   "source": [
    "# XX with delays"
   ]
  },
  {
   "cell_type": "code",
   "execution_count": 13,
   "metadata": {},
   "outputs": [
    {
     "data": {
      "text/plain": [
       "640"
      ]
     },
     "execution_count": 13,
     "metadata": {},
     "output_type": "execute_result"
    }
   ],
   "source": [
    "single_qubit_gate_duration*3 + (single_qubit_gate_duration//2)*2"
   ]
  },
  {
   "cell_type": "code",
   "execution_count": 14,
   "metadata": {},
   "outputs": [
    {
     "data": {
      "text/plain": [
       "10240"
      ]
     },
     "execution_count": 14,
     "metadata": {},
     "output_type": "execute_result"
    }
   ],
   "source": [
    "640*(2**4)"
   ]
  },
  {
   "cell_type": "code",
   "execution_count": 15,
   "metadata": {},
   "outputs": [
    {
     "data": {
      "text/plain": [
       "<qiskit.circuit.instructionset.InstructionSet at 0x21e7f5c7640>"
      ]
     },
     "execution_count": 15,
     "metadata": {},
     "output_type": "execute_result"
    }
   ],
   "source": [
    "delay_qc = QuantumCircuit(qregs)\n",
    "delay_qc.delay(single_qubit_gate_duration//2)\n",
    "delay_qc.x(qregs)\n",
    "delay_qc.delay(single_qubit_gate_duration)\n",
    "delay_qc.x(qregs)\n",
    "delay_qc.delay(single_qubit_gate_duration//2)"
   ]
  },
  {
   "cell_type": "code",
   "execution_count": 16,
   "metadata": {},
   "outputs": [],
   "source": [
    "middle_qcs = []\n",
    "qc = QuantumCircuit(qregs, name='CP-DD-X')\n",
    "qc = qc.compose(delay_qc, qregs)\n",
    "middle_qcs.append(qc)\n",
    "\n",
    "for i in range(4):\n",
    "    qc = qc.compose(qc, qregs)\n",
    "    middle_qcs.append(qc)"
   ]
  },
  {
   "cell_type": "code",
   "execution_count": 17,
   "metadata": {},
   "outputs": [],
   "source": [
    "h_delayxx_h_qcs, sx_delayxx_sx_x_qcs = [], []\n",
    "\n",
    "for middle_qc in middle_qcs:\n",
    "    h_delay_h_qc = h_delay_h(middle_qc, qregs)\n",
    "    h_delayxx_h_qcs.append(h_delay_h_qc)\n",
    "    sx_delay_sx_x_qc = sx_delay_sx_x(middle_qc, qregs)\n",
    "    sx_delayxx_sx_x_qcs.append(sx_delay_sx_x_qc)"
   ]
  },
  {
   "attachments": {},
   "cell_type": "markdown",
   "metadata": {},
   "source": [
    "# Collect all circuits and run on IBM Backend"
   ]
  },
  {
   "cell_type": "code",
   "execution_count": 18,
   "metadata": {},
   "outputs": [],
   "source": [
    "all_circuits = [empty_qc, ]\n",
    "\n",
    "experiment_qcs = [\n",
    "    h_delay_h_qcs, sx_delay_sx_x_qcs,\n",
    "    h_xxxx_h_qcs, sx_xxxx_sx_x_qcs,\n",
    "    h_delayxx_h_qcs, sx_delayxx_sx_x_qcs\n",
    "]\n",
    "\n",
    "for qcs in experiment_qcs:\n",
    "    all_circuits.extend(qcs)"
   ]
  },
  {
   "cell_type": "code",
   "execution_count": 19,
   "metadata": {},
   "outputs": [
    {
     "data": {
      "text/plain": [
       "39"
      ]
     },
     "execution_count": 19,
     "metadata": {},
     "output_type": "execute_result"
    }
   ],
   "source": [
    "len(all_circuits)"
   ]
  },
  {
   "attachments": {},
   "cell_type": "markdown",
   "metadata": {},
   "source": [
    "# Pickle Circuits"
   ]
  },
  {
   "cell_type": "code",
   "execution_count": 24,
   "metadata": {},
   "outputs": [],
   "source": [
    "import pickle\n",
    "pickle.dump( (empty_qc, experiment_qcs), open( \"./other_experiments/delay_exps_3.p\", \"wb\" ) )"
   ]
  },
  {
   "attachments": {},
   "cell_type": "markdown",
   "metadata": {},
   "source": [
    "## Run on Guadalupe"
   ]
  },
  {
   "cell_type": "code",
   "execution_count": 25,
   "metadata": {},
   "outputs": [],
   "source": [
    "pm = generate_preset_pass_manager(0, backend)\n",
    "tqcs = pm.run(all_circuits)"
   ]
  },
  {
   "cell_type": "code",
   "execution_count": 26,
   "metadata": {},
   "outputs": [
    {
     "name": "stdout",
     "output_type": "stream",
     "text": [
      "New job:  cidf12ru5mrpmc96e37g\n"
     ]
    }
   ],
   "source": [
    "job = backend.run(tqcs, shots=8000)\n",
    "job.update_tags(['delay_exps_3', ])\n",
    "print('New job: ', job.job_id())"
   ]
  },
  {
   "cell_type": "code",
   "execution_count": null,
   "metadata": {},
   "outputs": [],
   "source": []
  }
 ],
 "metadata": {
  "kernelspec": {
   "display_name": "bench",
   "language": "python",
   "name": "python3"
  },
  "language_info": {
   "codemirror_mode": {
    "name": "ipython",
    "version": 3
   },
   "file_extension": ".py",
   "mimetype": "text/x-python",
   "name": "python",
   "nbconvert_exporter": "python",
   "pygments_lexer": "ipython3",
   "version": "3.11.3"
  },
  "orig_nbformat": 4
 },
 "nbformat": 4,
 "nbformat_minor": 2
}
