{
 "cells": [
  {
   "attachments": {},
   "cell_type": "markdown",
   "metadata": {},
   "source": [
    "# Little Endian and marginal counts"
   ]
  },
  {
   "cell_type": "code",
   "execution_count": 1,
   "metadata": {},
   "outputs": [],
   "source": [
    "from qiskit import QuantumCircuit, QuantumRegister, ClassicalRegister\n",
    "from qiskit.result import marginal_counts\n",
    "from qiskit import transpile\n",
    "from qiskit_aer import AerSimulator\n",
    "from qiskit.visualization import plot_histogram"
   ]
  },
  {
   "cell_type": "code",
   "execution_count": 2,
   "metadata": {},
   "outputs": [
    {
     "data": {
      "image/png": "[encoded data removed]",
      "text/plain": [
       "<Figure size 538.33x367.889 with 1 Axes>"
      ]
     },
     "execution_count": 2,
     "metadata": {},
     "output_type": "execute_result"
    }
   ],
   "source": [
    "qr = QuantumRegister(3, name=\"q\")\n",
    "cr = ClassicalRegister(3, name=\"c\")\n",
    "\n",
    "qc = QuantumCircuit(qr, cr)\n",
    "qc.x(qr[0])\n",
    "qc.h(qr[1])\n",
    "qc.barrier()\n",
    "qc.measure(qr, cr)\n",
    "\n",
    "qc.draw(\"mpl\")"
   ]
  },
  {
   "cell_type": "code",
   "execution_count": 5,
   "metadata": {},
   "outputs": [
    {
     "data": {
      "image/png": "[encoded data removed]",
      "text/plain": [
       "<Figure size 700x500 with 1 Axes>"
      ]
     },
     "execution_count": 5,
     "metadata": {},
     "output_type": "execute_result"
    }
   ],
   "source": [
    "sim = AerSimulator()\n",
    "transpiled_circuit = transpile(qc, sim)\n",
    "\n",
    "# run job\n",
    "shots = 1000\n",
    "job = sim.run(transpiled_circuit, shots=shots)\n",
    "\n",
    "# Get the results and display them\n",
    "exp_result = job.result()\n",
    "exp_counts = exp_result.get_counts()\n",
    "plot_histogram(exp_counts)"
   ]
  },
  {
   "cell_type": "code",
   "execution_count": 4,
   "metadata": {},
   "outputs": [
    {
     "data": {
      "text/plain": [
       "{'1': 1000}"
      ]
     },
     "execution_count": 4,
     "metadata": {},
     "output_type": "execute_result"
    }
   ],
   "source": [
    "marginal_counts(exp_counts, [0])"
   ]
  },
  {
   "cell_type": "code",
   "execution_count": 5,
   "metadata": {},
   "outputs": [
    {
     "data": {
      "text/plain": [
       "{'1': 511, '0': 489}"
      ]
     },
     "execution_count": 5,
     "metadata": {},
     "output_type": "execute_result"
    }
   ],
   "source": [
    "marginal_counts(exp_counts, [1])"
   ]
  },
  {
   "cell_type": "code",
   "execution_count": 6,
   "metadata": {},
   "outputs": [
    {
     "data": {
      "text/plain": [
       "{'0': 1000}"
      ]
     },
     "execution_count": 6,
     "metadata": {},
     "output_type": "execute_result"
    }
   ],
   "source": [
    "marginal_counts(exp_counts, [2])"
   ]
  },
  {
   "attachments": {},
   "cell_type": "markdown",
   "metadata": {},
   "source": [
    "# Calibration data"
   ]
  },
  {
   "cell_type": "code",
   "execution_count": 7,
   "metadata": {},
   "outputs": [],
   "source": [
    "from qiskit_ibm_provider import IBMProvider"
   ]
  },
  {
   "cell_type": "code",
   "execution_count": 8,
   "metadata": {},
   "outputs": [],
   "source": [
    "provider = IBMProvider()"
   ]
  },
  {
   "cell_type": "code",
   "execution_count": 9,
   "metadata": {},
   "outputs": [],
   "source": [
    "ibm_backend_name = 'ibmq_guadalupe'\n",
    "backend = provider.get_backend(ibm_backend_name)"
   ]
  },
  {
   "cell_type": "code",
   "execution_count": 10,
   "metadata": {},
   "outputs": [
    {
     "data": {
      "text/plain": [
       "'2023-06-08 15:28:26+05:30'"
      ]
     },
     "execution_count": 10,
     "metadata": {},
     "output_type": "execute_result"
    }
   ],
   "source": [
    "str(backend.properties().last_update_date)"
   ]
  },
  {
   "cell_type": "code",
   "execution_count": 11,
   "metadata": {},
   "outputs": [
    {
     "data": {
      "text/plain": [
       "<qiskit.providers.models.backendproperties.BackendProperties at 0x1a048dd0e50>"
      ]
     },
     "execution_count": 11,
     "metadata": {},
     "output_type": "execute_result"
    }
   ],
   "source": [
    "backend.properties()"
   ]
  },
  {
   "cell_type": "code",
   "execution_count": 12,
   "metadata": {},
   "outputs": [
    {
     "data": {
      "text/plain": [
       "<qiskit.providers.models.backendproperties.Gate at 0x1a048dc60d0>"
      ]
     },
     "execution_count": 12,
     "metadata": {},
     "output_type": "execute_result"
    }
   ],
   "source": [
    "backend.properties().gates[82]"
   ]
  },
  {
   "cell_type": "code",
   "execution_count": 13,
   "metadata": {},
   "outputs": [
    {
     "data": {
      "text/plain": [
       "[<qiskit.providers.models.backendproperties.Gate at 0x1a048d8b890>,\n",
       " <qiskit.providers.models.backendproperties.Gate at 0x1a048c861d0>,\n",
       " <qiskit.providers.models.backendproperties.Gate at 0x1a048dba810>,\n",
       " <qiskit.providers.models.backendproperties.Gate at 0x1a048dba990>,\n",
       " <qiskit.providers.models.backendproperties.Gate at 0x1a048dbab10>,\n",
       " <qiskit.providers.models.backendproperties.Gate at 0x1a048dbacd0>,\n",
       " <qiskit.providers.models.backendproperties.Gate at 0x1a048dbae50>,\n",
       " <qiskit.providers.models.backendproperties.Gate at 0x1a048dbafd0>,\n",
       " <qiskit.providers.models.backendproperties.Gate at 0x1a048dbb150>,\n",
       " <qiskit.providers.models.backendproperties.Gate at 0x1a048dbac90>,\n",
       " <qiskit.providers.models.backendproperties.Gate at 0x1a048dbb410>,\n",
       " <qiskit.providers.models.backendproperties.Gate at 0x1a048dbb590>,\n",
       " <qiskit.providers.models.backendproperties.Gate at 0x1a048dbb710>,\n",
       " <qiskit.providers.models.backendproperties.Gate at 0x1a048dbb890>,\n",
       " <qiskit.providers.models.backendproperties.Gate at 0x1a048dbba10>,\n",
       " <qiskit.providers.models.backendproperties.Gate at 0x1a048dbbb90>,\n",
       " <qiskit.providers.models.backendproperties.Gate at 0x1a048dbbd10>,\n",
       " <qiskit.providers.models.backendproperties.Gate at 0x1a048dbbe90>,\n",
       " <qiskit.providers.models.backendproperties.Gate at 0x1a048dc0050>,\n",
       " <qiskit.providers.models.backendproperties.Gate at 0x1a048dc01d0>,\n",
       " <qiskit.providers.models.backendproperties.Gate at 0x1a048dc0350>,\n",
       " <qiskit.providers.models.backendproperties.Gate at 0x1a048dc04d0>,\n",
       " <qiskit.providers.models.backendproperties.Gate at 0x1a048dc0650>,\n",
       " <qiskit.providers.models.backendproperties.Gate at 0x1a048dc07d0>,\n",
       " <qiskit.providers.models.backendproperties.Gate at 0x1a048dc0990>,\n",
       " <qiskit.providers.models.backendproperties.Gate at 0x1a048dc0b10>,\n",
       " <qiskit.providers.models.backendproperties.Gate at 0x1a048dc0c90>,\n",
       " <qiskit.providers.models.backendproperties.Gate at 0x1a048dc0e10>,\n",
       " <qiskit.providers.models.backendproperties.Gate at 0x1a048dc0f90>,\n",
       " <qiskit.providers.models.backendproperties.Gate at 0x1a048dc1110>,\n",
       " <qiskit.providers.models.backendproperties.Gate at 0x1a048dc1290>,\n",
       " <qiskit.providers.models.backendproperties.Gate at 0x1a048dc1410>,\n",
       " <qiskit.providers.models.backendproperties.Gate at 0x1a048dc1590>,\n",
       " <qiskit.providers.models.backendproperties.Gate at 0x1a048dc1710>,\n",
       " <qiskit.providers.models.backendproperties.Gate at 0x1a048dc1890>,\n",
       " <qiskit.providers.models.backendproperties.Gate at 0x1a048dc1a10>,\n",
       " <qiskit.providers.models.backendproperties.Gate at 0x1a048dc1b90>,\n",
       " <qiskit.providers.models.backendproperties.Gate at 0x1a048dc1d10>,\n",
       " <qiskit.providers.models.backendproperties.Gate at 0x1a048dc1e90>,\n",
       " <qiskit.providers.models.backendproperties.Gate at 0x1a048dc2010>,\n",
       " <qiskit.providers.models.backendproperties.Gate at 0x1a048dc2190>,\n",
       " <qiskit.providers.models.backendproperties.Gate at 0x1a048dc2310>,\n",
       " <qiskit.providers.models.backendproperties.Gate at 0x1a048dc2490>,\n",
       " <qiskit.providers.models.backendproperties.Gate at 0x1a048dc2610>,\n",
       " <qiskit.providers.models.backendproperties.Gate at 0x1a048dc2790>,\n",
       " <qiskit.providers.models.backendproperties.Gate at 0x1a048dc2910>,\n",
       " <qiskit.providers.models.backendproperties.Gate at 0x1a048dc2a90>,\n",
       " <qiskit.providers.models.backendproperties.Gate at 0x1a048dc2c10>,\n",
       " <qiskit.providers.models.backendproperties.Gate at 0x1a048dc2d90>,\n",
       " <qiskit.providers.models.backendproperties.Gate at 0x1a048dc2f10>,\n",
       " <qiskit.providers.models.backendproperties.Gate at 0x1a048dc3090>,\n",
       " <qiskit.providers.models.backendproperties.Gate at 0x1a048dc3210>,\n",
       " <qiskit.providers.models.backendproperties.Gate at 0x1a048dc3390>,\n",
       " <qiskit.providers.models.backendproperties.Gate at 0x1a048dc3510>,\n",
       " <qiskit.providers.models.backendproperties.Gate at 0x1a048dc3690>,\n",
       " <qiskit.providers.models.backendproperties.Gate at 0x1a048dc3810>,\n",
       " <qiskit.providers.models.backendproperties.Gate at 0x1a048dc3990>,\n",
       " <qiskit.providers.models.backendproperties.Gate at 0x1a048dc3b10>,\n",
       " <qiskit.providers.models.backendproperties.Gate at 0x1a048dc3c90>,\n",
       " <qiskit.providers.models.backendproperties.Gate at 0x1a048dc3e10>,\n",
       " <qiskit.providers.models.backendproperties.Gate at 0x1a048dc3f90>,\n",
       " <qiskit.providers.models.backendproperties.Gate at 0x1a048dc4150>,\n",
       " <qiskit.providers.models.backendproperties.Gate at 0x1a048dc42d0>,\n",
       " <qiskit.providers.models.backendproperties.Gate at 0x1a048dc4450>,\n",
       " <qiskit.providers.models.backendproperties.Gate at 0x1a048dc45d0>,\n",
       " <qiskit.providers.models.backendproperties.Gate at 0x1a048dc4750>,\n",
       " <qiskit.providers.models.backendproperties.Gate at 0x1a048dc48d0>,\n",
       " <qiskit.providers.models.backendproperties.Gate at 0x1a048dc4a50>,\n",
       " <qiskit.providers.models.backendproperties.Gate at 0x1a048dc4bd0>,\n",
       " <qiskit.providers.models.backendproperties.Gate at 0x1a048dc4d50>,\n",
       " <qiskit.providers.models.backendproperties.Gate at 0x1a048dc4ed0>,\n",
       " <qiskit.providers.models.backendproperties.Gate at 0x1a048dc5050>,\n",
       " <qiskit.providers.models.backendproperties.Gate at 0x1a048dc51d0>,\n",
       " <qiskit.providers.models.backendproperties.Gate at 0x1a048dc5350>,\n",
       " <qiskit.providers.models.backendproperties.Gate at 0x1a048dc54d0>,\n",
       " <qiskit.providers.models.backendproperties.Gate at 0x1a048dc5650>,\n",
       " <qiskit.providers.models.backendproperties.Gate at 0x1a048dc57d0>,\n",
       " <qiskit.providers.models.backendproperties.Gate at 0x1a048dc5950>,\n",
       " <qiskit.providers.models.backendproperties.Gate at 0x1a048dc5ad0>,\n",
       " <qiskit.providers.models.backendproperties.Gate at 0x1a048dc5c50>,\n",
       " <qiskit.providers.models.backendproperties.Gate at 0x1a048dc5dd0>,\n",
       " <qiskit.providers.models.backendproperties.Gate at 0x1a048dc5f50>,\n",
       " <qiskit.providers.models.backendproperties.Gate at 0x1a048dc60d0>,\n",
       " <qiskit.providers.models.backendproperties.Gate at 0x1a048dc6250>,\n",
       " <qiskit.providers.models.backendproperties.Gate at 0x1a048dc63d0>,\n",
       " <qiskit.providers.models.backendproperties.Gate at 0x1a048dc6550>,\n",
       " <qiskit.providers.models.backendproperties.Gate at 0x1a048dc66d0>,\n",
       " <qiskit.providers.models.backendproperties.Gate at 0x1a048dc6850>,\n",
       " <qiskit.providers.models.backendproperties.Gate at 0x1a048dc69d0>,\n",
       " <qiskit.providers.models.backendproperties.Gate at 0x1a048dc6b50>,\n",
       " <qiskit.providers.models.backendproperties.Gate at 0x1a048dc6cd0>,\n",
       " <qiskit.providers.models.backendproperties.Gate at 0x1a048dc6e50>,\n",
       " <qiskit.providers.models.backendproperties.Gate at 0x1a048dc6fd0>,\n",
       " <qiskit.providers.models.backendproperties.Gate at 0x1a048dc7150>,\n",
       " <qiskit.providers.models.backendproperties.Gate at 0x1a048dc72d0>,\n",
       " <qiskit.providers.models.backendproperties.Gate at 0x1a048dc7450>,\n",
       " <qiskit.providers.models.backendproperties.Gate at 0x1a048dc75d0>,\n",
       " <qiskit.providers.models.backendproperties.Gate at 0x1a048dc76d0>,\n",
       " <qiskit.providers.models.backendproperties.Gate at 0x1a048dc77d0>,\n",
       " <qiskit.providers.models.backendproperties.Gate at 0x1a048dc78d0>,\n",
       " <qiskit.providers.models.backendproperties.Gate at 0x1a048dc79d0>,\n",
       " <qiskit.providers.models.backendproperties.Gate at 0x1a048dc7ad0>,\n",
       " <qiskit.providers.models.backendproperties.Gate at 0x1a048dc7bd0>,\n",
       " <qiskit.providers.models.backendproperties.Gate at 0x1a048dc7cd0>,\n",
       " <qiskit.providers.models.backendproperties.Gate at 0x1a048dc7dd0>,\n",
       " <qiskit.providers.models.backendproperties.Gate at 0x1a048dc7ed0>,\n",
       " <qiskit.providers.models.backendproperties.Gate at 0x1a048dc7fd0>,\n",
       " <qiskit.providers.models.backendproperties.Gate at 0x1a048dd0110>,\n",
       " <qiskit.providers.models.backendproperties.Gate at 0x1a048dd0210>,\n",
       " <qiskit.providers.models.backendproperties.Gate at 0x1a048dd0310>,\n",
       " <qiskit.providers.models.backendproperties.Gate at 0x1a048dd0410>,\n",
       " <qiskit.providers.models.backendproperties.Gate at 0x1a048dd0510>]"
      ]
     },
     "execution_count": 13,
     "metadata": {},
     "output_type": "execute_result"
    }
   ],
   "source": [
    "backend.properties().gates"
   ]
  },
  {
   "cell_type": "code",
   "execution_count": 14,
   "metadata": {},
   "outputs": [
    {
     "data": {
      "text/plain": [
       "[Nduv(datetime.datetime(2023, 6, 8, 13, 30, 43, tzinfo=tzlocal()), T1, us, 70.95660521418755),\n",
       " Nduv(datetime.datetime(2023, 6, 8, 11, 22, 41, tzinfo=tzlocal()), T2, us, 128.32115797019463),\n",
       " Nduv(datetime.datetime(2023, 6, 8, 15, 28, 26, tzinfo=tzlocal()), frequency, GHz, 5.1135326648681865),\n",
       " Nduv(datetime.datetime(2023, 6, 8, 15, 28, 26, tzinfo=tzlocal()), anharmonicity, GHz, -0.33523244411102265),\n",
       " Nduv(datetime.datetime(2023, 6, 8, 10, 42, 22, tzinfo=tzlocal()), readout_error, , 0.015600000000000058),\n",
       " Nduv(datetime.datetime(2023, 6, 8, 10, 42, 22, tzinfo=tzlocal()), prob_meas0_prep1, , 0.022800000000000042),\n",
       " Nduv(datetime.datetime(2023, 6, 8, 10, 42, 22, tzinfo=tzlocal()), prob_meas1_prep0, , 0.0084),\n",
       " Nduv(datetime.datetime(2023, 6, 8, 10, 42, 22, tzinfo=tzlocal()), readout_length, ns, 7111.11111111111)]"
      ]
     },
     "execution_count": 14,
     "metadata": {},
     "output_type": "execute_result"
    }
   ],
   "source": [
    "backend.properties().qubits[0]"
   ]
  },
  {
   "attachments": {},
   "cell_type": "markdown",
   "metadata": {},
   "source": [
    "# Random"
   ]
  },
  {
   "cell_type": "code",
   "execution_count": 15,
   "metadata": {},
   "outputs": [
    {
     "data": {
      "text/plain": [
       "<qiskit.circuit.instructionset.InstructionSet at 0x1a048ccad70>"
      ]
     },
     "execution_count": 15,
     "metadata": {},
     "output_type": "execute_result"
    }
   ],
   "source": [
    "from qiskit import QuantumCircuit, QuantumRegister, ClassicalRegister\n",
    "\n",
    "qr = QuantumRegister(3, name=\"q\")\n",
    "cr = ClassicalRegister(3, name=\"c\")\n",
    "\n",
    "qc = QuantumCircuit(qr, cr)\n",
    "qc.x(qr[0])\n",
    "qc.h(qr[1])\n",
    "qc.barrier()\n",
    "qc.measure(qr, cr)"
   ]
  },
  {
   "cell_type": "code",
   "execution_count": 16,
   "metadata": {},
   "outputs": [],
   "source": [
    "# from qiskit.test.reference_circuits import ReferenceCircuits\n",
    "# from qiskit_ibm_runtime import Sampler, Session, Options\n",
    "\n",
    "# options = Options(optimization_level=3)\n",
    "\n",
    "# with Session(backend=\"ibmq_qasm_simulator\") as session:\n",
    "#     sampler = Sampler(session=session, options=options)\n",
    "#     job = sampler.run(qc)\n",
    "#     print(\"Sampler job ID: {}\".format(job.job_id()))\n",
    "#     print(\"Sampler job result: {}\".format(job.result()))\n",
    "\n",
    "#     print('blah blah blah')\n",
    "\n",
    "#     job2 = sampler.run(qc)\n",
    "#     print(\"Sampler job ID: {}\".format(job2.job_id()))\n",
    "#     print(\"Sampler job result: {}\".format(job2.result()))\n",
    "\n",
    "#     job3 = sampler.run(qc)\n",
    "#     print(\"Sampler job ID: {}\".format(job3.job_id()))\n",
    "#     print(\"Sampler job result: {}\".format(job3.result()))\n",
    "#     # Close the session only if all jobs are finished and\n",
    "#     # you don't need to run more in the session.\n",
    "#     session.close()"
   ]
  },
  {
   "cell_type": "code",
   "execution_count": 17,
   "metadata": {},
   "outputs": [],
   "source": [
    "# from qiskit import execute\n",
    "\n",
    "# aa = QuantumCircuit(1,1)\n",
    "# aa.x(0)\n",
    "# aa.measure(0,0)\n",
    "# backend = provider.get_backend('ibmq_jakarta')\n",
    "# #backend = Aer.get_backend('qasm_simulator')\n",
    "# result_job = execute(aa,backend = backend,shots = 10000)"
   ]
  },
  {
   "cell_type": "code",
   "execution_count": 18,
   "metadata": {},
   "outputs": [],
   "source": [
    "qr1 = QuantumRegister(3)\n",
    "qr2 = QuantumRegister(5)\n",
    "\n",
    "qrs = [qr1, qr2]"
   ]
  },
  {
   "cell_type": "code",
   "execution_count": 19,
   "metadata": {},
   "outputs": [
    {
     "data": {
      "text/plain": [
       "[QuantumRegister(3, 'q4'), QuantumRegister(5, 'q5')]"
      ]
     },
     "execution_count": 19,
     "metadata": {},
     "output_type": "execute_result"
    }
   ],
   "source": [
    "qrs"
   ]
  },
  {
   "cell_type": "code",
   "execution_count": 20,
   "metadata": {},
   "outputs": [],
   "source": [
    "qc = QuantumCircuit(qr1, qr2)"
   ]
  },
  {
   "cell_type": "code",
   "execution_count": 21,
   "metadata": {},
   "outputs": [
    {
     "data": {
      "text/plain": [
       "[QuantumRegister(3, 'q4'), QuantumRegister(5, 'q5')]"
      ]
     },
     "execution_count": 21,
     "metadata": {},
     "output_type": "execute_result"
    }
   ],
   "source": [
    "qc.qregs"
   ]
  },
  {
   "attachments": {},
   "cell_type": "markdown",
   "metadata": {},
   "source": [
    "# Get CX duration in dt - Guadalupe"
   ]
  },
  {
   "cell_type": "code",
   "execution_count": 1,
   "metadata": {},
   "outputs": [],
   "source": [
    "from qiskit_ibm_provider import IBMProvider\n",
    "from scipy import stats"
   ]
  },
  {
   "cell_type": "code",
   "execution_count": 2,
   "metadata": {},
   "outputs": [],
   "source": [
    "provider = IBMProvider()\n",
    "ibm_backend_name = 'ibmq_guadalupe'\n",
    "backend = provider.get_backend(ibm_backend_name)"
   ]
  },
  {
   "cell_type": "code",
   "execution_count": 3,
   "metadata": {},
   "outputs": [],
   "source": [
    "props = backend.properties()"
   ]
  },
  {
   "cell_type": "code",
   "execution_count": 4,
   "metadata": {},
   "outputs": [],
   "source": [
    "gates = props.gates"
   ]
  },
  {
   "cell_type": "code",
   "execution_count": 5,
   "metadata": {},
   "outputs": [
    {
     "data": {
      "text/plain": [
       "<qiskit.providers.models.backendproperties.Gate at 0x22854455d90>"
      ]
     },
     "execution_count": 5,
     "metadata": {},
     "output_type": "execute_result"
    }
   ],
   "source": [
    "gates[0]"
   ]
  },
  {
   "cell_type": "code",
   "execution_count": 6,
   "metadata": {},
   "outputs": [],
   "source": [
    "cx_gates = [g for g in gates if g.gate=='cx']"
   ]
  },
  {
   "cell_type": "code",
   "execution_count": 7,
   "metadata": {},
   "outputs": [
    {
     "data": {
      "text/plain": [
       "2.702222222222222e-07"
      ]
     },
     "execution_count": 7,
     "metadata": {},
     "output_type": "execute_result"
    }
   ],
   "source": [
    "props.gate_length('cx', (5, 8))"
   ]
  },
  {
   "cell_type": "code",
   "execution_count": 8,
   "metadata": {},
   "outputs": [],
   "source": [
    "cx_durations = []\n",
    "\n",
    "for ctrl_qubit in range(16):\n",
    "    for target_qubit in backend.coupling_map.neighbors(ctrl_qubit):\n",
    "        cx_len = props.gate_length('cx', (ctrl_qubit, target_qubit))\n",
    "        cx_durations.append(cx_len)\n"
   ]
  },
  {
   "cell_type": "code",
   "execution_count": 9,
   "metadata": {},
   "outputs": [
    {
     "data": {
      "text/plain": [
       "DescribeResult(nobs=32, minmax=(2.6311111111111107e-07, 7.751111111111111e-07), mean=4.2266666666666664e-07, variance=1.6804651533253684e-14, skewness=1.1105738562331184, kurtosis=0.7157601673432179)"
      ]
     },
     "execution_count": 9,
     "metadata": {},
     "output_type": "execute_result"
    }
   ],
   "source": [
    "stats.describe(cx_durations)"
   ]
  },
  {
   "cell_type": "code",
   "execution_count": 31,
   "metadata": {},
   "outputs": [],
   "source": [
    "victim_qubits = (5, 8, 11, 14)\n",
    "cx_durations = []\n",
    "\n",
    "for ctrl_qubit in victim_qubits:\n",
    "    neighbours = backend.coupling_map.neighbors(ctrl_qubit)\n",
    "    neighbours2 = [n for n in neighbours if n in victim_qubits]\n",
    "    for target_qubit in neighbours2:\n",
    "        cx_len = props.gate_length('cx', (ctrl_qubit, target_qubit))\n",
    "        cx_durations.append(cx_len)\n"
   ]
  },
  {
   "cell_type": "code",
   "execution_count": 32,
   "metadata": {},
   "outputs": [
    {
     "data": {
      "text/plain": [
       "[2.702222222222222e-07,\n",
       " 3.484444444444444e-07,\n",
       " 3.0577777777777775e-07,\n",
       " 3.484444444444444e-07,\n",
       " 3.1288888888888885e-07,\n",
       " 3.84e-07]"
      ]
     },
     "execution_count": 32,
     "metadata": {},
     "output_type": "execute_result"
    }
   ],
   "source": [
    "cx_durations"
   ]
  },
  {
   "cell_type": "code",
   "execution_count": 10,
   "metadata": {},
   "outputs": [
    {
     "data": {
      "text/plain": [
       "DescribeResult(nobs=32, minmax=(2.6311111111111107e-07, 7.751111111111111e-07), mean=4.2266666666666664e-07, variance=1.6804651533253684e-14, skewness=1.1105738562331184, kurtosis=0.7157601673432179)"
      ]
     },
     "execution_count": 10,
     "metadata": {},
     "output_type": "execute_result"
    }
   ],
   "source": [
    "stats.describe(cx_durations)"
   ]
  },
  {
   "cell_type": "code",
   "execution_count": 11,
   "metadata": {},
   "outputs": [],
   "source": [
    "# backend.coupling_map.distance_matrix"
   ]
  },
  {
   "cell_type": "code",
   "execution_count": 12,
   "metadata": {},
   "outputs": [],
   "source": [
    "from qiskit import QuantumCircuit"
   ]
  },
  {
   "cell_type": "code",
   "execution_count": 13,
   "metadata": {},
   "outputs": [
    {
     "data": {
      "image/png": "[encoded data removed]",
      "text/plain": [
       "<Figure size 203.885x284.278 with 1 Axes>"
      ]
     },
     "execution_count": 13,
     "metadata": {},
     "output_type": "execute_result"
    }
   ],
   "source": [
    "qc = QuantumCircuit(3)\n",
    "qc.delay(duration=10, unit='s')\n",
    "qc.draw('mpl')"
   ]
  },
  {
   "cell_type": "code",
   "execution_count": 14,
   "metadata": {},
   "outputs": [
    {
     "data": {
      "text/plain": [
       "1.92e-06"
      ]
     },
     "execution_count": 14,
     "metadata": {},
     "output_type": "execute_result"
    }
   ],
   "source": [
    "3.84e-07*5"
   ]
  },
  {
   "attachments": {},
   "cell_type": "markdown",
   "metadata": {},
   "source": [
    "Since we want our window to be wide enough to capture upto 5 CNOTs we can set a delay of 2e-06 for Guadalupe"
   ]
  },
  {
   "cell_type": "code",
   "execution_count": 15,
   "metadata": {},
   "outputs": [
    {
     "data": {
      "text/plain": [
       "1.152e-06"
      ]
     },
     "execution_count": 15,
     "metadata": {},
     "output_type": "execute_result"
    }
   ],
   "source": [
    "3.84e-07*3"
   ]
  },
  {
   "cell_type": "code",
   "execution_count": 16,
   "metadata": {},
   "outputs": [],
   "source": [
    "config = backend.configuration()"
   ]
  },
  {
   "cell_type": "code",
   "execution_count": 17,
   "metadata": {},
   "outputs": [
    {
     "data": {
      "text/plain": [
       "2.2222222222222221e-10"
      ]
     },
     "execution_count": 17,
     "metadata": {},
     "output_type": "execute_result"
    }
   ],
   "source": [
    "config.dt"
   ]
  },
  {
   "cell_type": "code",
   "execution_count": 18,
   "metadata": {},
   "outputs": [
    {
     "data": {
      "text/plain": [
       "8640.0"
      ]
     },
     "execution_count": 18,
     "metadata": {},
     "output_type": "execute_result"
    }
   ],
   "source": [
    "1.92e-06/config.dt"
   ]
  },
  {
   "cell_type": "code",
   "execution_count": 19,
   "metadata": {},
   "outputs": [
    {
     "data": {
      "text/plain": [
       "5184.0"
      ]
     },
     "execution_count": 19,
     "metadata": {},
     "output_type": "execute_result"
    }
   ],
   "source": [
    "1.152e-06/config.dt"
   ]
  },
  {
   "cell_type": "code",
   "execution_count": 20,
   "metadata": {},
   "outputs": [
    {
     "data": {
      "text/plain": [
       "3488.0"
      ]
     },
     "execution_count": 20,
     "metadata": {},
     "output_type": "execute_result"
    }
   ],
   "source": [
    "7.751111111111111e-07/config.dt"
   ]
  },
  {
   "cell_type": "code",
   "execution_count": 21,
   "metadata": {},
   "outputs": [
    {
     "data": {
      "text/plain": [
       "1902.0"
      ]
     },
     "execution_count": 21,
     "metadata": {},
     "output_type": "execute_result"
    }
   ],
   "source": [
    "4.2266666666666664e-07/config.dt"
   ]
  },
  {
   "cell_type": "code",
   "execution_count": null,
   "metadata": {},
   "outputs": [],
   "source": []
  }
 ],
 "metadata": {
  "kernelspec": {
   "display_name": "bench",
   "language": "python",
   "name": "python3"
  },
  "language_info": {
   "codemirror_mode": {
    "name": "ipython",
    "version": 3
   },
   "file_extension": ".py",
   "mimetype": "text/x-python",
   "name": "python",
   "nbconvert_exporter": "python",
   "pygments_lexer": "ipython3",
   "version": "3.11.3"
  },
  "orig_nbformat": 4
 },
 "nbformat": 4,
 "nbformat_minor": 2
}
