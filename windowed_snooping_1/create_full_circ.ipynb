{
 "cells": [
  {
   "cell_type": "code",
   "execution_count": 1,
   "metadata": {},
   "outputs": [],
   "source": [
    "import pickle\n",
    "from qiskit import QuantumCircuit, QuantumRegister, ClassicalRegister\n",
    "from models.victim_params import VictimParams"
   ]
  },
  {
   "attachments": {},
   "cell_type": "markdown",
   "metadata": {},
   "source": [
    "# delay(80)-X-delay(160)-X-delay(80)"
   ]
  },
  {
   "cell_type": "code",
   "execution_count": 2,
   "metadata": {},
   "outputs": [
    {
     "name": "stdout",
     "output_type": "stream",
     "text": [
      "1920\n"
     ]
    }
   ],
   "source": [
    "dd_cycles = 3\n",
    "dd_cycle_duration = (80*2 + 160*3)\n",
    "print(dd_cycle_duration*dd_cycles)"
   ]
  },
  {
   "attachments": {},
   "cell_type": "markdown",
   "metadata": {},
   "source": [
    "The attacker circuit will be initialized with H gate. Then they will snoop for 1920 while doing simple DD."
   ]
  },
  {
   "attachments": {},
   "cell_type": "markdown",
   "metadata": {},
   "source": [
    "## Params"
   ]
  },
  {
   "cell_type": "code",
   "execution_count": 3,
   "metadata": {},
   "outputs": [],
   "source": [
    "no_of_qubits = 16\n",
    "no_of_victims = 4\n",
    "no_of_attackers = 12\n",
    "no_of_ancilla = no_of_qubits - no_of_victims - no_of_attackers"
   ]
  },
  {
   "cell_type": "code",
   "execution_count": 4,
   "metadata": {},
   "outputs": [],
   "source": [
    "attack_qregs = QuantumRegister(no_of_attackers, name='a')\n",
    "victim_qregs = QuantumRegister(no_of_victims, name='v')\n",
    "ancilla_qregs = QuantumRegister(no_of_ancilla, name='ancilla')\n",
    "cregs = ClassicalRegister(no_of_attackers, 'c')"
   ]
  },
  {
   "attachments": {},
   "cell_type": "markdown",
   "metadata": {},
   "source": [
    "## Attackers DD while Snooping"
   ]
  },
  {
   "cell_type": "code",
   "execution_count": 5,
   "metadata": {},
   "outputs": [
    {
     "data": {
      "text/plain": [
       "<qiskit.circuit.instructionset.InstructionSet at 0x1bea95d59c0>"
      ]
     },
     "execution_count": 5,
     "metadata": {},
     "output_type": "execute_result"
    }
   ],
   "source": [
    "dd_qc_cycle = QuantumCircuit(attack_qregs, name='cp-dd')\n",
    "dd_qc_cycle.delay(80, attack_qregs)\n",
    "dd_qc_cycle.x(attack_qregs)\n",
    "dd_qc_cycle.delay(160, attack_qregs)\n",
    "dd_qc_cycle.x(attack_qregs)\n",
    "dd_qc_cycle.delay(80, attack_qregs)"
   ]
  },
  {
   "cell_type": "code",
   "execution_count": 6,
   "metadata": {},
   "outputs": [],
   "source": [
    "dd_qc_cycles = QuantumCircuit(attack_qregs, name='cp-dd-{}'.format(dd_cycles))\n",
    "for i in range(dd_cycles):\n",
    "    dd_qc_cycles.append(dd_qc_cycle, attack_qregs)"
   ]
  },
  {
   "attachments": {},
   "cell_type": "markdown",
   "metadata": {},
   "source": [
    "## Load Pickle"
   ]
  },
  {
   "cell_type": "code",
   "execution_count": 7,
   "metadata": {},
   "outputs": [],
   "source": [
    "with open('./windowed_snooping_experiments/victim_1.p', 'rb') as f:\n",
    "    one_cnot_qcs: list[QuantumCircuit]\n",
    "    two_cnot_qcs: list[QuantumCircuit]\n",
    "    (one_cnot_qcs, two_cnot_qcs) = pickle.load(f)"
   ]
  },
  {
   "attachments": {},
   "cell_type": "markdown",
   "metadata": {},
   "source": [
    "## Full circs"
   ]
  },
  {
   "cell_type": "code",
   "execution_count": 8,
   "metadata": {},
   "outputs": [
    {
     "data": {
      "text/plain": [
       "<qiskit.circuit.instructionset.InstructionSet at 0x1bea95d7e20>"
      ]
     },
     "execution_count": 8,
     "metadata": {},
     "output_type": "execute_result"
    }
   ],
   "source": [
    "intial_qc = QuantumCircuit(attack_qregs, victim_qregs, ancilla_qregs, cregs)\n",
    "intial_qc.h(attack_qregs)\n",
    "intial_qc.barrier()"
   ]
  },
  {
   "cell_type": "code",
   "execution_count": 9,
   "metadata": {},
   "outputs": [
    {
     "data": {
      "text/plain": [
       "<qiskit.circuit.instructionset.InstructionSet at 0x1bea95d7fd0>"
      ]
     },
     "execution_count": 9,
     "metadata": {},
     "output_type": "execute_result"
    }
   ],
   "source": [
    "empty_victim_qc = QuantumCircuit(victim_qregs, name='empty')\n",
    "\n",
    "full_qc_1 = intial_qc.compose(empty_victim_qc, victim_qregs)\n",
    "full_qc_1.append(dd_qc_cycles, attack_qregs)\n",
    "full_qc_1.barrier()\n",
    "full_qc_1.h(attack_qregs)\n",
    "full_qc_1.measure(attack_qregs, cregs)"
   ]
  },
  {
   "cell_type": "code",
   "execution_count": 10,
   "metadata": {},
   "outputs": [],
   "source": [
    "full_one_cnot_qcs = []\n",
    "full_two_cnot_qcs = []\n",
    "\n",
    "for full_qcs, victim_qcs in ((full_one_cnot_qcs, one_cnot_qcs), (full_two_cnot_qcs, two_cnot_qcs)):\n",
    "    for victim_qc in victim_qcs:\n",
    "        qc = intial_qc.compose(victim_qc, victim_qregs)\n",
    "        qc.name = victim_qc.name\n",
    "        qc.append(dd_qc_cycles, attack_qregs)\n",
    "        qc.barrier()\n",
    "        qc.h(attack_qregs)\n",
    "        qc.measure(attack_qregs, cregs)\n",
    "        full_qcs.append(qc)"
   ]
  },
  {
   "cell_type": "code",
   "execution_count": 12,
   "metadata": {},
   "outputs": [],
   "source": [
    "pickle.dump((full_qc_1, full_one_cnot_qcs, full_two_cnot_qcs), open( './windowed_snooping_experiments/full_1.p', \"wb\" ) )"
   ]
  },
  {
   "cell_type": "code",
   "execution_count": null,
   "metadata": {},
   "outputs": [],
   "source": []
  },
  {
   "attachments": {},
   "cell_type": "markdown",
   "metadata": {},
   "source": [
    "# delay(533)-X-delay(533)-X-delay(533)"
   ]
  },
  {
   "cell_type": "code",
   "execution_count": 2,
   "metadata": {},
   "outputs": [
    {
     "data": {
      "text/plain": [
       "533.3333333333334"
      ]
     },
     "execution_count": 2,
     "metadata": {},
     "output_type": "execute_result"
    }
   ],
   "source": [
    "(1920-(160*2))/3"
   ]
  },
  {
   "cell_type": "code",
   "execution_count": 3,
   "metadata": {},
   "outputs": [
    {
     "name": "stdout",
     "output_type": "stream",
     "text": [
      "1919\n"
     ]
    }
   ],
   "source": [
    "dd_cycles = 1\n",
    "dd_cycle_duration = (533*3 + 160*2)\n",
    "print(dd_cycle_duration*dd_cycles)"
   ]
  },
  {
   "attachments": {},
   "cell_type": "markdown",
   "metadata": {},
   "source": [
    "The attacker circuit will be initialized with H gate. Then they will snoop for 1919 while doing simple DD."
   ]
  },
  {
   "attachments": {},
   "cell_type": "markdown",
   "metadata": {},
   "source": [
    "## Params"
   ]
  },
  {
   "cell_type": "code",
   "execution_count": 4,
   "metadata": {},
   "outputs": [],
   "source": [
    "no_of_qubits = 16\n",
    "no_of_victims = 4\n",
    "no_of_attackers = 12\n",
    "no_of_ancilla = no_of_qubits - no_of_victims - no_of_attackers"
   ]
  },
  {
   "cell_type": "code",
   "execution_count": 5,
   "metadata": {},
   "outputs": [],
   "source": [
    "attack_qregs = QuantumRegister(no_of_attackers, name='a')\n",
    "victim_qregs = QuantumRegister(no_of_victims, name='v')\n",
    "ancilla_qregs = QuantumRegister(no_of_ancilla, name='ancilla')\n",
    "cregs = ClassicalRegister(no_of_attackers, 'c')"
   ]
  },
  {
   "attachments": {},
   "cell_type": "markdown",
   "metadata": {},
   "source": [
    "## Attackers DD while Snooping"
   ]
  },
  {
   "cell_type": "code",
   "execution_count": 6,
   "metadata": {},
   "outputs": [
    {
     "data": {
      "text/plain": [
       "<qiskit.circuit.instructionset.InstructionSet at 0x169c0fcacb0>"
      ]
     },
     "execution_count": 6,
     "metadata": {},
     "output_type": "execute_result"
    }
   ],
   "source": [
    "dd_qc_cycle = QuantumCircuit(attack_qregs, name='cp-dd')\n",
    "dd_qc_cycle.delay(533, attack_qregs)\n",
    "dd_qc_cycle.x(attack_qregs)\n",
    "dd_qc_cycle.delay(533, attack_qregs)\n",
    "dd_qc_cycle.x(attack_qregs)\n",
    "dd_qc_cycle.delay(533, attack_qregs)"
   ]
  },
  {
   "cell_type": "code",
   "execution_count": 7,
   "metadata": {},
   "outputs": [],
   "source": [
    "dd_qc_cycles = QuantumCircuit(attack_qregs, name='cp-dd-{}'.format(dd_cycles))\n",
    "for i in range(dd_cycles):\n",
    "    dd_qc_cycles.append(dd_qc_cycle, attack_qregs)"
   ]
  },
  {
   "attachments": {},
   "cell_type": "markdown",
   "metadata": {},
   "source": [
    "## Load Pickle"
   ]
  },
  {
   "cell_type": "code",
   "execution_count": 8,
   "metadata": {},
   "outputs": [],
   "source": [
    "with open('./windowed_snooping_experiments/victim_1.p', 'rb') as f:\n",
    "    one_cnot_qcs: list[QuantumCircuit]\n",
    "    two_cnot_qcs: list[QuantumCircuit]\n",
    "    (one_cnot_qcs, two_cnot_qcs) = pickle.load(f)"
   ]
  },
  {
   "attachments": {},
   "cell_type": "markdown",
   "metadata": {},
   "source": [
    "## Full circs"
   ]
  },
  {
   "cell_type": "code",
   "execution_count": 9,
   "metadata": {},
   "outputs": [
    {
     "data": {
      "text/plain": [
       "<qiskit.circuit.instructionset.InstructionSet at 0x169c1015510>"
      ]
     },
     "execution_count": 9,
     "metadata": {},
     "output_type": "execute_result"
    }
   ],
   "source": [
    "intial_qc = QuantumCircuit(attack_qregs, victim_qregs, ancilla_qregs, cregs)\n",
    "intial_qc.h(attack_qregs)\n",
    "intial_qc.barrier()"
   ]
  },
  {
   "cell_type": "code",
   "execution_count": 10,
   "metadata": {},
   "outputs": [
    {
     "data": {
      "text/plain": [
       "<qiskit.circuit.instructionset.InstructionSet at 0x1699d60cf40>"
      ]
     },
     "execution_count": 10,
     "metadata": {},
     "output_type": "execute_result"
    }
   ],
   "source": [
    "empty_victim_qc = QuantumCircuit(victim_qregs, name='empty')\n",
    "\n",
    "full_qc_1 = intial_qc.compose(empty_victim_qc, victim_qregs)\n",
    "full_qc_1.append(dd_qc_cycles, attack_qregs)\n",
    "full_qc_1.barrier()\n",
    "full_qc_1.h(attack_qregs)\n",
    "full_qc_1.measure(attack_qregs, cregs)"
   ]
  },
  {
   "cell_type": "code",
   "execution_count": 11,
   "metadata": {},
   "outputs": [],
   "source": [
    "full_one_cnot_qcs = []\n",
    "full_two_cnot_qcs = []\n",
    "\n",
    "for full_qcs, victim_qcs in ((full_one_cnot_qcs, one_cnot_qcs), (full_two_cnot_qcs, two_cnot_qcs)):\n",
    "    for victim_qc in victim_qcs:\n",
    "        qc = intial_qc.compose(victim_qc, victim_qregs)\n",
    "        qc.name = victim_qc.name\n",
    "        qc.append(dd_qc_cycles, attack_qregs)\n",
    "        qc.barrier()\n",
    "        qc.h(attack_qregs)\n",
    "        qc.measure(attack_qregs, cregs)\n",
    "        full_qcs.append(qc)"
   ]
  },
  {
   "cell_type": "code",
   "execution_count": 12,
   "metadata": {},
   "outputs": [],
   "source": [
    "pickle.dump((full_qc_1, full_one_cnot_qcs, full_two_cnot_qcs), open( './windowed_snooping_experiments/full_2.p', \"wb\" ) )"
   ]
  },
  {
   "cell_type": "code",
   "execution_count": null,
   "metadata": {},
   "outputs": [],
   "source": []
  }
 ],
 "metadata": {
  "kernelspec": {
   "display_name": "bench",
   "language": "python",
   "name": "python3"
  },
  "language_info": {
   "codemirror_mode": {
    "name": "ipython",
    "version": 3
   },
   "file_extension": ".py",
   "mimetype": "text/x-python",
   "name": "python",
   "nbconvert_exporter": "python",
   "pygments_lexer": "ipython3",
   "version": "3.11.3"
  },
  "orig_nbformat": 4
 },
 "nbformat": 4,
 "nbformat_minor": 2
}
