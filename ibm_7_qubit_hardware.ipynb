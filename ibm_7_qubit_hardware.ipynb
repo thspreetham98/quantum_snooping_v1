{
 "cells": [
  {
   "cell_type": "code",
   "execution_count": 1,
   "metadata": {},
   "outputs": [],
   "source": [
    "import pickle\n",
    "from qiskit import QuantumCircuit, QuantumRegister\n",
    "from qiskit_ibm_provider import IBMProvider\n",
    "from qiskit.transpiler.preset_passmanagers import generate_preset_pass_manager\n",
    "from qiskit.transpiler import PassManager, Layout\n",
    "from qiskit.transpiler.passes import SetLayout, ApplyLayout, ALAPSchedule, ALAPScheduleAnalysis, BasisTranslator\n",
    "\n",
    "\n",
    "from models.victim_params import VictimParams\n"
   ]
  },
  {
   "cell_type": "code",
   "execution_count": 2,
   "metadata": {},
   "outputs": [],
   "source": [
    "provider = IBMProvider()"
   ]
  },
  {
   "attachments": {},
   "cell_type": "markdown",
   "metadata": {},
   "source": [
    "# One-way CNOT 3->5 Snoopers: (1, 4, 6)"
   ]
  },
  {
   "attachments": {},
   "cell_type": "markdown",
   "metadata": {},
   "source": [
    "## Parameters"
   ]
  },
  {
   "cell_type": "code",
   "execution_count": null,
   "metadata": {},
   "outputs": [],
   "source": [
    "snooper_qubits = (1, 4, 6)\n",
    "victim_qubits = (3, 5)\n",
    "ancilla_qubits = (0, 2)\n",
    "victim_circ_uuid = '3a03572b-c786-449e-b9ed-4fea2fb16b54'\n"
   ]
  },
  {
   "cell_type": "code",
   "execution_count": null,
   "metadata": {},
   "outputs": [],
   "source": [
    "with open('./pickles/full_circs/one_way_cnot_{}_snoopers_{}.p'.format(len(snooper_qubits), victim_circ_uuid), 'rb') as f:\n",
    "    random_victim_qcs: list[QuantumCircuit]\n",
    "    victim_params: VictimParams\n",
    "    full_qcs, victim_params = pickle.load(f)"
   ]
  },
  {
   "cell_type": "code",
   "execution_count": null,
   "metadata": {},
   "outputs": [],
   "source": [
    "qregs = full_qcs[0].qregs\n",
    "ancilla = QuantumRegister(2, name='ancilla')"
   ]
  },
  {
   "cell_type": "code",
   "execution_count": null,
   "metadata": {},
   "outputs": [],
   "source": [
    "layout_dict = { }\n",
    "\n",
    "for qreg, index in zip(qregs[0], snooper_qubits):\n",
    "    layout_dict[qreg] = index\n",
    "\n",
    "for qreg, index in zip(qregs[1], victim_qubits):\n",
    "    layout_dict[qreg] = index\n",
    "\n",
    "for qreg, index in zip(ancilla, ancilla_qubits):\n",
    "    layout_dict[qreg] = index"
   ]
  },
  {
   "attachments": {},
   "cell_type": "markdown",
   "metadata": {},
   "source": [
    "## IBM Nairobi"
   ]
  },
  {
   "cell_type": "code",
   "execution_count": null,
   "metadata": {},
   "outputs": [],
   "source": [
    "ibm_backend_name = 'ibm_nairobi'\n",
    "backend = provider.get_backend(ibm_backend_name)"
   ]
  },
  {
   "cell_type": "code",
   "execution_count": null,
   "metadata": {},
   "outputs": [],
   "source": [
    "pm = generate_preset_pass_manager(0, backend)\n",
    "layout = Layout(layout_dict)\n",
    "pm.layout = PassManager([\n",
    "    SetLayout(layout),\n",
    "    ApplyLayout()\n",
    "])"
   ]
  },
  {
   "cell_type": "code",
   "execution_count": null,
   "metadata": {},
   "outputs": [],
   "source": [
    "tqcs = pm.run(full_qcs)"
   ]
  },
  {
   "cell_type": "code",
   "execution_count": null,
   "metadata": {},
   "outputs": [],
   "source": [
    "# tqcs[1100].draw('mpl', idle_wires=False)"
   ]
  },
  {
   "cell_type": "code",
   "execution_count": null,
   "metadata": {},
   "outputs": [],
   "source": [
    "job = backend.run(tqcs, shots=8000)\n",
    "job.update_tags(['snooping', 'one_way_cnot_3-5_146', victim_circ_uuid])\n",
    "print('New job: ', job.job_id())"
   ]
  },
  {
   "cell_type": "code",
   "execution_count": null,
   "metadata": {},
   "outputs": [],
   "source": []
  },
  {
   "attachments": {},
   "cell_type": "markdown",
   "metadata": {},
   "source": [
    "## IBM Oslo"
   ]
  },
  {
   "cell_type": "code",
   "execution_count": null,
   "metadata": {},
   "outputs": [],
   "source": [
    "ibm_backend_name = 'ibm_oslo'\n",
    "backend = provider.get_backend(ibm_backend_name)"
   ]
  },
  {
   "cell_type": "code",
   "execution_count": null,
   "metadata": {},
   "outputs": [],
   "source": [
    "pm = generate_preset_pass_manager(0, backend)\n",
    "layout = Layout(layout_dict)\n",
    "pm.layout = PassManager([\n",
    "    SetLayout(layout),\n",
    "    ApplyLayout()\n",
    "])"
   ]
  },
  {
   "cell_type": "code",
   "execution_count": null,
   "metadata": {},
   "outputs": [],
   "source": [
    "tqcs = pm.run(full_qcs)"
   ]
  },
  {
   "cell_type": "code",
   "execution_count": null,
   "metadata": {},
   "outputs": [],
   "source": [
    "# tqcs[1100].draw('mpl', idle_wires=False)"
   ]
  },
  {
   "cell_type": "code",
   "execution_count": null,
   "metadata": {},
   "outputs": [],
   "source": [
    "job = backend.run(tqcs, shots=8000)\n",
    "job.update_tags(['snooping', 'one_way_cnot_3-5_146', victim_circ_uuid])\n",
    "print('New job: ', job.job_id())"
   ]
  },
  {
   "attachments": {},
   "cell_type": "markdown",
   "metadata": {},
   "source": [
    "# One-way CNOT 5->3 Snoopers: (1, 4, 6)"
   ]
  },
  {
   "attachments": {},
   "cell_type": "markdown",
   "metadata": {},
   "source": [
    "## Parameters"
   ]
  },
  {
   "cell_type": "code",
   "execution_count": null,
   "metadata": {},
   "outputs": [],
   "source": [
    "snooper_qubits = (1, 4, 6)\n",
    "victim_qubits = (5, 3)\n",
    "ancilla_qubits = (0, 2)\n",
    "victim_circ_uuid = '3a03572b-c786-449e-b9ed-4fea2fb16b54'\n"
   ]
  },
  {
   "cell_type": "code",
   "execution_count": null,
   "metadata": {},
   "outputs": [],
   "source": [
    "with open('./pickles/full_circs/one_way_cnot_{}_snoopers_{}.p'.format(len(snooper_qubits), victim_circ_uuid), 'rb') as f:\n",
    "    random_victim_qcs: list[QuantumCircuit]\n",
    "    victim_params: VictimParams\n",
    "    full_qcs, victim_params = pickle.load(f)"
   ]
  },
  {
   "cell_type": "code",
   "execution_count": null,
   "metadata": {},
   "outputs": [],
   "source": [
    "qregs = full_qcs[0].qregs\n",
    "ancilla = QuantumRegister(2, name='ancilla')"
   ]
  },
  {
   "cell_type": "code",
   "execution_count": null,
   "metadata": {},
   "outputs": [],
   "source": [
    "layout_dict = { }\n",
    "\n",
    "for qreg, index in zip(qregs[0], snooper_qubits):\n",
    "    layout_dict[qreg] = index\n",
    "\n",
    "for qreg, index in zip(qregs[1], victim_qubits):\n",
    "    layout_dict[qreg] = index\n",
    "\n",
    "for qreg, index in zip(ancilla, ancilla_qubits):\n",
    "    layout_dict[qreg] = index"
   ]
  },
  {
   "attachments": {},
   "cell_type": "markdown",
   "metadata": {},
   "source": [
    "## IBM Nairobi"
   ]
  },
  {
   "cell_type": "code",
   "execution_count": null,
   "metadata": {},
   "outputs": [],
   "source": [
    "ibm_backend_name = 'ibm_nairobi'\n",
    "backend = provider.get_backend(ibm_backend_name)"
   ]
  },
  {
   "cell_type": "code",
   "execution_count": null,
   "metadata": {},
   "outputs": [],
   "source": [
    "pm = generate_preset_pass_manager(0, backend)\n",
    "layout = Layout(layout_dict)\n",
    "pm.layout = PassManager([\n",
    "    SetLayout(layout),\n",
    "    ApplyLayout()\n",
    "])"
   ]
  },
  {
   "cell_type": "code",
   "execution_count": null,
   "metadata": {},
   "outputs": [],
   "source": [
    "tqcs = pm.run(full_qcs)"
   ]
  },
  {
   "cell_type": "code",
   "execution_count": null,
   "metadata": {},
   "outputs": [],
   "source": [
    "# tqcs[1100].draw('mpl', idle_wires=False)"
   ]
  },
  {
   "cell_type": "code",
   "execution_count": null,
   "metadata": {},
   "outputs": [],
   "source": [
    "job = backend.run(tqcs, shots=8000)\n",
    "job.update_tags(['snooping', 'one_way_cnot_5-3_146', victim_circ_uuid])\n",
    "print('New job: ', job.job_id())"
   ]
  },
  {
   "attachments": {},
   "cell_type": "markdown",
   "metadata": {},
   "source": [
    "## IBM Oslo"
   ]
  },
  {
   "cell_type": "code",
   "execution_count": null,
   "metadata": {},
   "outputs": [],
   "source": [
    "ibm_backend_name = 'ibm_oslo'\n",
    "backend = provider.get_backend(ibm_backend_name)"
   ]
  },
  {
   "cell_type": "code",
   "execution_count": null,
   "metadata": {},
   "outputs": [],
   "source": [
    "pm = generate_preset_pass_manager(0, backend)\n",
    "layout = Layout(layout_dict)\n",
    "pm.layout = PassManager([\n",
    "    SetLayout(layout),\n",
    "    ApplyLayout()\n",
    "])"
   ]
  },
  {
   "cell_type": "code",
   "execution_count": null,
   "metadata": {},
   "outputs": [],
   "source": [
    "tqcs = pm.run(full_qcs)"
   ]
  },
  {
   "cell_type": "code",
   "execution_count": null,
   "metadata": {},
   "outputs": [],
   "source": [
    "# tqcs[1100].draw('mpl', idle_wires=False)"
   ]
  },
  {
   "cell_type": "code",
   "execution_count": null,
   "metadata": {},
   "outputs": [],
   "source": [
    "job = backend.run(tqcs, shots=8000)\n",
    "job.update_tags(['snooping', 'one_way_cnot_5-3_146', victim_circ_uuid])\n",
    "print('New job: ', job.job_id())"
   ]
  },
  {
   "cell_type": "code",
   "execution_count": null,
   "metadata": {},
   "outputs": [],
   "source": []
  },
  {
   "attachments": {},
   "cell_type": "markdown",
   "metadata": {},
   "source": [
    "# Two-way CNOT 3, 5 Snoopers: (1, 4, 6)"
   ]
  },
  {
   "attachments": {},
   "cell_type": "markdown",
   "metadata": {},
   "source": [
    "## Parameters"
   ]
  },
  {
   "cell_type": "code",
   "execution_count": null,
   "metadata": {},
   "outputs": [],
   "source": [
    "snooper_qubits = (1, 4, 6)\n",
    "victim_qubits = (3, 5)\n",
    "ancilla_qubits = (0, 2)\n",
    "victim_circ_uuid = 'f6bcf9c3-a057-4f9b-acf7-8d804262a33c'\n"
   ]
  },
  {
   "cell_type": "code",
   "execution_count": null,
   "metadata": {},
   "outputs": [],
   "source": [
    "with open('./pickles/full_circs/two_way_cnot_{}_snoopers_{}.p'.format(len(snooper_qubits), victim_circ_uuid), 'rb') as f:\n",
    "    random_victim_qcs: list[QuantumCircuit]\n",
    "    victim_params: VictimParams\n",
    "    full_qcs, victim_params = pickle.load(f)"
   ]
  },
  {
   "cell_type": "code",
   "execution_count": null,
   "metadata": {},
   "outputs": [],
   "source": [
    "qregs = full_qcs[0].qregs\n",
    "ancilla = QuantumRegister(2, name='ancilla')"
   ]
  },
  {
   "cell_type": "code",
   "execution_count": null,
   "metadata": {},
   "outputs": [],
   "source": [
    "layout_dict = { }\n",
    "\n",
    "for qreg, index in zip(qregs[0], snooper_qubits):\n",
    "    layout_dict[qreg] = index\n",
    "\n",
    "for qreg, index in zip(qregs[1], victim_qubits):\n",
    "    layout_dict[qreg] = index\n",
    "\n",
    "for qreg, index in zip(ancilla, ancilla_qubits):\n",
    "    layout_dict[qreg] = index"
   ]
  },
  {
   "attachments": {},
   "cell_type": "markdown",
   "metadata": {},
   "source": [
    "## IBM Nairobi"
   ]
  },
  {
   "cell_type": "code",
   "execution_count": null,
   "metadata": {},
   "outputs": [],
   "source": [
    "ibm_backend_name = 'ibm_nairobi'\n",
    "backend = provider.get_backend(ibm_backend_name)"
   ]
  },
  {
   "cell_type": "code",
   "execution_count": null,
   "metadata": {},
   "outputs": [],
   "source": [
    "pm = generate_preset_pass_manager(0, backend)\n",
    "layout = Layout(layout_dict)\n",
    "pm.layout = PassManager([\n",
    "    SetLayout(layout),\n",
    "    ApplyLayout()\n",
    "])"
   ]
  },
  {
   "cell_type": "code",
   "execution_count": null,
   "metadata": {},
   "outputs": [],
   "source": [
    "tqcs = pm.run(full_qcs)"
   ]
  },
  {
   "cell_type": "code",
   "execution_count": null,
   "metadata": {},
   "outputs": [],
   "source": [
    "job = backend.run(tqcs, shots=8000)\n",
    "job.update_tags(['snooping', 'two_way_cnot_35_146', victim_circ_uuid])\n",
    "print('New job: ', job.job_id())"
   ]
  },
  {
   "attachments": {},
   "cell_type": "markdown",
   "metadata": {},
   "source": [
    "# Bigger Victim - 4 qubits chain with depth 1 IBM Guadalupe"
   ]
  },
  {
   "attachments": {},
   "cell_type": "markdown",
   "metadata": {},
   "source": [
    "## Parameters"
   ]
  },
  {
   "cell_type": "code",
   "execution_count": 1,
   "metadata": {},
   "outputs": [],
   "source": [
    "victim_qubits = (5, 8, 11, 14)\n",
    "snooper_qubits_1 = (3, 9, 13)\n",
    "snooper_qubits_2 = (2, 12)\n",
    "snooper_qubits_3 = (1, 10, 15)\n",
    "ancilla_qubits = (0, 4, 6, 7)"
   ]
  },
  {
   "cell_type": "code",
   "execution_count": 67,
   "metadata": {},
   "outputs": [],
   "source": [
    "with open('./pickles/full_circs/four_qubit_chain_d1.p', 'rb') as f:\n",
    "    random_victim_qcs: list[QuantumCircuit]\n",
    "    full_qcs = pickle.load(f)"
   ]
  },
  {
   "cell_type": "code",
   "execution_count": 68,
   "metadata": {},
   "outputs": [
    {
     "data": {
      "text/plain": [
       "[QuantumRegister(3, 'a1'),\n",
       " QuantumRegister(2, 'a2'),\n",
       " QuantumRegister(3, 'a3'),\n",
       " QuantumRegister(4, 'ancilla'),\n",
       " QuantumRegister(4, 'v')]"
      ]
     },
     "execution_count": 68,
     "metadata": {},
     "output_type": "execute_result"
    }
   ],
   "source": [
    "full_qcs[0].qregs"
   ]
  },
  {
   "cell_type": "code",
   "execution_count": 69,
   "metadata": {},
   "outputs": [],
   "source": [
    "attack_qregs_1, attack_qregs_2, attack_qregs_3, ancilla, victim_qregs = full_qcs[0].qregs"
   ]
  },
  {
   "cell_type": "code",
   "execution_count": 70,
   "metadata": {},
   "outputs": [],
   "source": [
    "layout_dict = { }\n",
    "\n",
    "for at, sn in ((attack_qregs_1, snooper_qubits_1), (attack_qregs_2, snooper_qubits_2), (attack_qregs_3, snooper_qubits_3)):\n",
    "    for qreg, index in zip(at, sn):\n",
    "        layout_dict[qreg] = index\n",
    "\n",
    "for qreg, index in zip(victim_qregs, victim_qubits):\n",
    "    layout_dict[qreg] = index\n",
    "\n",
    "for qreg, index in zip(ancilla, ancilla_qubits):\n",
    "    layout_dict[qreg] = index"
   ]
  },
  {
   "cell_type": "code",
   "execution_count": 71,
   "metadata": {},
   "outputs": [
    {
     "data": {
      "text/plain": [
       "{Qubit(QuantumRegister(3, 'a1'), 0): 3,\n",
       " Qubit(QuantumRegister(3, 'a1'), 1): 9,\n",
       " Qubit(QuantumRegister(3, 'a1'), 2): 13,\n",
       " Qubit(QuantumRegister(2, 'a2'), 0): 2,\n",
       " Qubit(QuantumRegister(2, 'a2'), 1): 12,\n",
       " Qubit(QuantumRegister(3, 'a3'), 0): 1,\n",
       " Qubit(QuantumRegister(3, 'a3'), 1): 10,\n",
       " Qubit(QuantumRegister(3, 'a3'), 2): 15,\n",
       " Qubit(QuantumRegister(4, 'v'), 0): 5,\n",
       " Qubit(QuantumRegister(4, 'v'), 1): 8,\n",
       " Qubit(QuantumRegister(4, 'v'), 2): 11,\n",
       " Qubit(QuantumRegister(4, 'v'), 3): 14,\n",
       " Qubit(QuantumRegister(4, 'ancilla'), 0): 0,\n",
       " Qubit(QuantumRegister(4, 'ancilla'), 1): 4,\n",
       " Qubit(QuantumRegister(4, 'ancilla'), 2): 6,\n",
       " Qubit(QuantumRegister(4, 'ancilla'), 3): 7}"
      ]
     },
     "execution_count": 71,
     "metadata": {},
     "output_type": "execute_result"
    }
   ],
   "source": [
    "layout_dict"
   ]
  },
  {
   "cell_type": "code",
   "execution_count": 72,
   "metadata": {},
   "outputs": [],
   "source": [
    "ibm_backend_name = 'ibmq_guadalupe'\n",
    "backend = provider.get_backend(ibm_backend_name)"
   ]
  },
  {
   "cell_type": "code",
   "execution_count": 73,
   "metadata": {},
   "outputs": [],
   "source": [
    "pm = generate_preset_pass_manager(0, backend)\n",
    "layout = Layout(layout_dict)\n",
    "pm.layout = PassManager([\n",
    "    SetLayout(layout),\n",
    "    ApplyLayout()\n",
    "])"
   ]
  },
  {
   "cell_type": "code",
   "execution_count": 74,
   "metadata": {},
   "outputs": [],
   "source": [
    "tqcs = pm.run(full_qcs)"
   ]
  },
  {
   "cell_type": "code",
   "execution_count": 77,
   "metadata": {},
   "outputs": [
    {
     "name": "stdout",
     "output_type": "stream",
     "text": [
      "New job:  chkqi4dnopt07g344490\n"
     ]
    }
   ],
   "source": [
    "job = backend.run(tqcs, shots=8000)\n",
    "job.update_tags(['snooping', '4-chain'])\n",
    "print('New job: ', job.job_id())"
   ]
  },
  {
   "cell_type": "code",
   "execution_count": null,
   "metadata": {},
   "outputs": [],
   "source": []
  },
  {
   "attachments": {},
   "cell_type": "markdown",
   "metadata": {},
   "source": [
    "# 4 qubits chain 5, 8, 11, 14 - IBM Guadalupe"
   ]
  },
  {
   "cell_type": "code",
   "execution_count": 3,
   "metadata": {},
   "outputs": [],
   "source": [
    "no_of_qubits = 16\n",
    "victim_qubits = (5, 8, 11, 14)\n",
    "snooper_qubits = (3, 9, 13, 2, 12, 1, 10, 15, 0, 4, 6, 7)\n",
    "ancilla_qubits = ()"
   ]
  },
  {
   "cell_type": "code",
   "execution_count": 4,
   "metadata": {},
   "outputs": [],
   "source": [
    "with open('./pickles/full_circs/{}_qubit_machine_{}_qubit_chain_{}_snoopers.p'.format(no_of_qubits, len(victim_qubits), len(snooper_qubits)), 'rb') as f:\n",
    "    full_qcs_per_reps: dict[int, list[QuantumCircuit]]\n",
    "    full_qcs_per_reps = pickle.load(f)"
   ]
  },
  {
   "cell_type": "code",
   "execution_count": 5,
   "metadata": {},
   "outputs": [
    {
     "data": {
      "text/plain": [
       "[QuantumRegister(12, 'a'),\n",
       " QuantumRegister(4, 'v'),\n",
       " QuantumRegister(0, 'ancilla')]"
      ]
     },
     "execution_count": 5,
     "metadata": {},
     "output_type": "execute_result"
    }
   ],
   "source": [
    "qregs = full_qcs_per_reps[0][0].qregs\n",
    "qregs"
   ]
  },
  {
   "cell_type": "code",
   "execution_count": 6,
   "metadata": {},
   "outputs": [],
   "source": [
    "layout_dict = { }\n",
    "\n",
    "for qreg, index in zip(qregs[0], snooper_qubits):\n",
    "    layout_dict[qreg] = index\n",
    "\n",
    "for qreg, index in zip(qregs[1], victim_qubits):\n",
    "    layout_dict[qreg] = index\n",
    "\n",
    "for qreg, index in zip(qregs[2], ancilla_qubits):\n",
    "    layout_dict[qreg] = index"
   ]
  },
  {
   "cell_type": "code",
   "execution_count": 7,
   "metadata": {},
   "outputs": [
    {
     "data": {
      "text/plain": [
       "{Qubit(QuantumRegister(12, 'a'), 0): 3,\n",
       " Qubit(QuantumRegister(12, 'a'), 1): 9,\n",
       " Qubit(QuantumRegister(12, 'a'), 2): 13,\n",
       " Qubit(QuantumRegister(12, 'a'), 3): 2,\n",
       " Qubit(QuantumRegister(12, 'a'), 4): 12,\n",
       " Qubit(QuantumRegister(12, 'a'), 5): 1,\n",
       " Qubit(QuantumRegister(12, 'a'), 6): 10,\n",
       " Qubit(QuantumRegister(12, 'a'), 7): 15,\n",
       " Qubit(QuantumRegister(12, 'a'), 8): 0,\n",
       " Qubit(QuantumRegister(12, 'a'), 9): 4,\n",
       " Qubit(QuantumRegister(12, 'a'), 10): 6,\n",
       " Qubit(QuantumRegister(12, 'a'), 11): 7,\n",
       " Qubit(QuantumRegister(4, 'v'), 0): 5,\n",
       " Qubit(QuantumRegister(4, 'v'), 1): 8,\n",
       " Qubit(QuantumRegister(4, 'v'), 2): 11,\n",
       " Qubit(QuantumRegister(4, 'v'), 3): 14}"
      ]
     },
     "execution_count": 7,
     "metadata": {},
     "output_type": "execute_result"
    }
   ],
   "source": [
    "layout_dict"
   ]
  },
  {
   "cell_type": "code",
   "execution_count": 8,
   "metadata": {},
   "outputs": [],
   "source": [
    "ibm_backend_name = 'ibmq_guadalupe'\n",
    "backend = provider.get_backend(ibm_backend_name)"
   ]
  },
  {
   "cell_type": "code",
   "execution_count": 9,
   "metadata": {},
   "outputs": [],
   "source": [
    "pm = generate_preset_pass_manager(0, backend)\n",
    "layout = Layout(layout_dict)\n",
    "pm.layout = PassManager([\n",
    "    SetLayout(layout),\n",
    "    ApplyLayout()\n",
    "])"
   ]
  },
  {
   "cell_type": "code",
   "execution_count": 10,
   "metadata": {},
   "outputs": [],
   "source": [
    "full_qcs = []\n",
    "for reps, qcs in full_qcs_per_reps.items():\n",
    "    full_qcs.extend(qcs)"
   ]
  },
  {
   "cell_type": "code",
   "execution_count": 11,
   "metadata": {},
   "outputs": [],
   "source": [
    "tqcs = pm.run(full_qcs)"
   ]
  },
  {
   "cell_type": "code",
   "execution_count": 12,
   "metadata": {},
   "outputs": [
    {
     "name": "stdout",
     "output_type": "stream",
     "text": [
      "New job:  chv8s2mnfq8rvo0ltjjg\n"
     ]
    }
   ],
   "source": [
    "job = backend.run(tqcs, shots=8000)\n",
    "job.update_tags(['snooping', '4_chain_5_8_11_14'])\n",
    "print('New job: ', job.job_id())"
   ]
  },
  {
   "attachments": {},
   "cell_type": "markdown",
   "metadata": {},
   "source": [
    "# 4 qubits chain (5, 8, 11, 14) with 0135 fixed time window - 16 qubit machine (Guadalupe)"
   ]
  },
  {
   "cell_type": "code",
   "execution_count": 52,
   "metadata": {},
   "outputs": [],
   "source": [
    "no_of_qubits = 16\n",
    "victim_qubits = (5, 8, 11, 14)\n",
    "snooper_qubits = (3, 9, 13, 2, 12, 1, 10, 15, 0, 4, 6, 7)\n",
    "ancilla_qubits = ()"
   ]
  },
  {
   "cell_type": "code",
   "execution_count": 53,
   "metadata": {},
   "outputs": [],
   "source": [
    "with open('./pickles/full_circs/gudalupe_4_qubit_chain_12_snoopers_window_2e-06.p', 'rb') as f:\n",
    "    full_qcs_per_reps: dict[int, list[QuantumCircuit]]\n",
    "    full_qcs_per_reps = pickle.load(f)"
   ]
  },
  {
   "cell_type": "code",
   "execution_count": 54,
   "metadata": {},
   "outputs": [
    {
     "data": {
      "text/plain": [
       "[QuantumRegister(12, 'a'),\n",
       " QuantumRegister(4, 'v'),\n",
       " QuantumRegister(0, 'ancilla')]"
      ]
     },
     "execution_count": 54,
     "metadata": {},
     "output_type": "execute_result"
    }
   ],
   "source": [
    "qregs = full_qcs_per_reps[0][0].qregs\n",
    "qregs"
   ]
  },
  {
   "cell_type": "code",
   "execution_count": 55,
   "metadata": {},
   "outputs": [],
   "source": [
    "layout_dict = { }\n",
    "\n",
    "for qreg, index in zip(qregs[0], snooper_qubits):\n",
    "    layout_dict[qreg] = index\n",
    "\n",
    "for qreg, index in zip(qregs[1], victim_qubits):\n",
    "    layout_dict[qreg] = index\n",
    "\n",
    "for qreg, index in zip(qregs[2], ancilla_qubits):\n",
    "    layout_dict[qreg] = index"
   ]
  },
  {
   "cell_type": "code",
   "execution_count": 56,
   "metadata": {},
   "outputs": [],
   "source": [
    "ibm_backend_name = 'ibmq_guadalupe'\n",
    "backend = provider.get_backend(ibm_backend_name)"
   ]
  },
  {
   "cell_type": "code",
   "execution_count": 57,
   "metadata": {},
   "outputs": [],
   "source": [
    "pm = generate_preset_pass_manager(0, backend)\n",
    "layout = Layout(layout_dict)\n",
    "pm.layout = PassManager([\n",
    "    SetLayout(layout),\n",
    "    ApplyLayout()\n",
    "])\n",
    "\n",
    "pm.scheduling = PassManager([\n",
    "    ALAPSchedule(backend.instruction_durations)\n",
    "])"
   ]
  },
  {
   "cell_type": "code",
   "execution_count": 58,
   "metadata": {},
   "outputs": [],
   "source": [
    "full_qcs = []\n",
    "for reps, qcs in full_qcs_per_reps.items():\n",
    "    full_qcs.extend(qcs)"
   ]
  },
  {
   "attachments": {},
   "cell_type": "markdown",
   "metadata": {},
   "source": [
    "### timeline diagram"
   ]
  },
  {
   "cell_type": "code",
   "execution_count": 62,
   "metadata": {},
   "outputs": [
    {
     "data": {
      "image/png": "[encoded data removed]",
      "text/plain": [
       "<Figure size 1400x1360 with 1 Axes>"
      ]
     },
     "metadata": {},
     "output_type": "display_data"
    }
   ],
   "source": [
    "from qiskit.visualization import timeline_drawer\n",
    "\n",
    "i = -1\n",
    "tqc = pm.run(full_qcs[i])\n",
    "# display(tqc.draw('mpl'))\n",
    "display(timeline_drawer(tqc, time_range=(0, 10000)))"
   ]
  },
  {
   "attachments": {},
   "cell_type": "markdown",
   "metadata": {},
   "source": [
    "## Run on Guadalupe"
   ]
  },
  {
   "cell_type": "code",
   "execution_count": 63,
   "metadata": {},
   "outputs": [],
   "source": [
    "tqcs = pm.run(full_qcs)"
   ]
  },
  {
   "cell_type": "code",
   "execution_count": 64,
   "metadata": {},
   "outputs": [
    {
     "name": "stdout",
     "output_type": "stream",
     "text": [
      "New job:  ci0clm9cinbchsg3mdm0\n"
     ]
    }
   ],
   "source": [
    "job = backend.run(tqcs, shots=8000)\n",
    "job.update_tags(['snooping', '4_chain_5_8_11_14_window'])\n",
    "print('New job: ', job.job_id())"
   ]
  },
  {
   "cell_type": "code",
   "execution_count": null,
   "metadata": {},
   "outputs": [],
   "source": []
  }
 ],
 "metadata": {
  "kernelspec": {
   "display_name": "bench",
   "language": "python",
   "name": "python3"
  },
  "language_info": {
   "codemirror_mode": {
    "name": "ipython",
    "version": 3
   },
   "file_extension": ".py",
   "mimetype": "text/x-python",
   "name": "python",
   "nbconvert_exporter": "python",
   "pygments_lexer": "ipython3",
   "version": "3.11.0"
  },
  "orig_nbformat": 4
 },
 "nbformat": 4,
 "nbformat_minor": 2
}
