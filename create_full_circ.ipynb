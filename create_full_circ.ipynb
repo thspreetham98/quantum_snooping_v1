{
 "cells": [
  {
   "cell_type": "code",
   "execution_count": 1,
   "metadata": {},
   "outputs": [],
   "source": [
    "import pickle\n",
    "from qiskit import QuantumCircuit, QuantumRegister, ClassicalRegister\n",
    "\n",
    "from models.victim_params import VictimParams\n"
   ]
  },
  {
   "attachments": {},
   "cell_type": "markdown",
   "metadata": {},
   "source": [
    "# One-way with n snoopers"
   ]
  },
  {
   "cell_type": "code",
   "execution_count": null,
   "metadata": {},
   "outputs": [],
   "source": [
    "n = 3\n",
    "victim_circ_uuid = '3a03572b-c786-449e-b9ed-4fea2fb16b54'"
   ]
  },
  {
   "cell_type": "code",
   "execution_count": null,
   "metadata": {},
   "outputs": [],
   "source": [
    "with open('./pickles/victim_circs/one_way_cnot_{}.p'.format(victim_circ_uuid), 'rb') as f:\n",
    "    random_victim_qcs: list[QuantumCircuit]\n",
    "    victim_params: VictimParams\n",
    "    random_victim_qcs, victim_params = pickle.load(f)\n"
   ]
  },
  {
   "cell_type": "code",
   "execution_count": null,
   "metadata": {},
   "outputs": [],
   "source": [
    "attack_qregs = QuantumRegister(n, name='a')\n",
    "victim_qregs = QuantumRegister(victim_params.no_of_qubits, name='v')\n",
    "cregs = ClassicalRegister(n, 'c')"
   ]
  },
  {
   "cell_type": "code",
   "execution_count": null,
   "metadata": {},
   "outputs": [],
   "source": [
    "intial_qc = QuantumCircuit(attack_qregs, victim_qregs, cregs)\n",
    "intial_qc.h(attack_qregs)\n",
    "intial_qc.barrier()"
   ]
  },
  {
   "cell_type": "code",
   "execution_count": null,
   "metadata": {},
   "outputs": [],
   "source": [
    "full_qcs = []\n",
    "for qc in random_victim_qcs:\n",
    "    full_qc = intial_qc.compose(qc, victim_qregs)\n",
    "    full_qc.barrier()\n",
    "    full_qc.h(attack_qregs)\n",
    "    full_qc.measure(attack_qregs, cregs)\n",
    "    full_qcs.append(full_qc)\n"
   ]
  },
  {
   "cell_type": "code",
   "execution_count": null,
   "metadata": {},
   "outputs": [],
   "source": [
    "pickle.dump( (full_qcs, victim_params), open( \"pickles/full_circs/one_way_cnot_{}_snoopers_{}.p\".format(n, str(victim_params.uuid)), \"wb\" ) )"
   ]
  },
  {
   "attachments": {},
   "cell_type": "markdown",
   "metadata": {},
   "source": [
    "# Two-way with n snoopers"
   ]
  },
  {
   "cell_type": "code",
   "execution_count": null,
   "metadata": {},
   "outputs": [],
   "source": [
    "n = 3\n",
    "victim_circ_uuid = 'f6bcf9c3-a057-4f9b-acf7-8d804262a33c'"
   ]
  },
  {
   "cell_type": "code",
   "execution_count": null,
   "metadata": {},
   "outputs": [],
   "source": [
    "with open('./pickles/victim_circs/two_way_cnot_{}.p'.format(victim_circ_uuid), 'rb') as f:\n",
    "    random_victim_qcs: list[QuantumCircuit]\n",
    "    victim_params: VictimParams\n",
    "    random_victim_qcs, victim_params = pickle.load(f)\n"
   ]
  },
  {
   "cell_type": "code",
   "execution_count": null,
   "metadata": {},
   "outputs": [],
   "source": [
    "attack_qregs = QuantumRegister(n, name='a')\n",
    "victim_qregs = QuantumRegister(victim_params.no_of_qubits, name='v')\n",
    "cregs = ClassicalRegister(n, 'c')"
   ]
  },
  {
   "cell_type": "code",
   "execution_count": null,
   "metadata": {},
   "outputs": [],
   "source": [
    "intial_qc = QuantumCircuit(attack_qregs, victim_qregs, cregs)\n",
    "intial_qc.h(attack_qregs)\n",
    "intial_qc.barrier()"
   ]
  },
  {
   "cell_type": "code",
   "execution_count": null,
   "metadata": {},
   "outputs": [],
   "source": [
    "full_qcs = []\n",
    "for qc in random_victim_qcs:\n",
    "    full_qc = intial_qc.compose(qc, victim_qregs)\n",
    "    full_qc.barrier()\n",
    "    full_qc.h(attack_qregs)\n",
    "    full_qc.measure(attack_qregs, cregs)\n",
    "    full_qcs.append(full_qc)\n"
   ]
  },
  {
   "cell_type": "code",
   "execution_count": null,
   "metadata": {},
   "outputs": [],
   "source": [
    "pickle.dump( (full_qcs, victim_params), open( \"pickles/full_circs/two_way_cnot_{}_snoopers_{}.p\".format(n, str(victim_params.uuid)), \"wb\" ) )"
   ]
  },
  {
   "cell_type": "code",
   "execution_count": null,
   "metadata": {},
   "outputs": [],
   "source": []
  },
  {
   "attachments": {},
   "cell_type": "markdown",
   "metadata": {},
   "source": [
    "# Bigger Victim - 4 qubits chain with depth 1 Guadalupe"
   ]
  },
  {
   "cell_type": "code",
   "execution_count": 35,
   "metadata": {},
   "outputs": [],
   "source": [
    "victim_qubits = (5, 8, 11, 14)\n",
    "snooper_qubits_1 = (3, 9, 13)\n",
    "snooper_qubits_2 = (2, 12)\n",
    "snooper_qubits_3 = (1, 10, 15)\n",
    "ancilla_qubits = (0, 4, 6, 7)"
   ]
  },
  {
   "cell_type": "code",
   "execution_count": 36,
   "metadata": {},
   "outputs": [],
   "source": [
    "with open('./pickles/victim_circs/four_qubit_chain_d1.p', 'rb') as f:\n",
    "    random_victim_qcs: list[QuantumCircuit]\n",
    "    random_victim_qcs = pickle.load(f)"
   ]
  },
  {
   "cell_type": "code",
   "execution_count": 37,
   "metadata": {},
   "outputs": [],
   "source": [
    "attack_qregs_1 = QuantumRegister(len(snooper_qubits_1), name='a1')\n",
    "attack_qregs_2 = QuantumRegister(len(snooper_qubits_2), name='a2')\n",
    "attack_qregs_3 = QuantumRegister(len(snooper_qubits_3), name='a3')\n",
    "ancilla = QuantumRegister(len(ancilla_qubits), name='ancilla')\n",
    "victim_qregs = QuantumRegister(4, name='v')\n",
    "cregs_1 = ClassicalRegister(len(snooper_qubits_1), 'c1')\n",
    "cregs_2 = ClassicalRegister(len(snooper_qubits_2), 'c2')\n",
    "cregs_3 = ClassicalRegister(len(snooper_qubits_3), 'c3')"
   ]
  },
  {
   "cell_type": "code",
   "execution_count": 38,
   "metadata": {},
   "outputs": [
    {
     "data": {
      "text/plain": [
       "<qiskit.circuit.instructionset.InstructionSet at 0x1abbd821150>"
      ]
     },
     "execution_count": 38,
     "metadata": {},
     "output_type": "execute_result"
    }
   ],
   "source": [
    "intial_qc = QuantumCircuit(attack_qregs_1, attack_qregs_2, attack_qregs_3, ancilla, victim_qregs, cregs_1, cregs_2, cregs_3)\n",
    "intial_qc.h(attack_qregs_1)\n",
    "intial_qc.h(attack_qregs_2)\n",
    "intial_qc.h(attack_qregs_3)\n",
    "intial_qc.barrier()"
   ]
  },
  {
   "cell_type": "code",
   "execution_count": 39,
   "metadata": {},
   "outputs": [],
   "source": [
    "full_qcs = []\n",
    "for qc in random_victim_qcs:\n",
    "    full_qc = intial_qc.compose(qc, victim_qregs)\n",
    "    full_qc.barrier()\n",
    "    full_qc.h(attack_qregs_1)\n",
    "    full_qc.h(attack_qregs_2)\n",
    "    full_qc.h(attack_qregs_3)\n",
    "    full_qc.measure(attack_qregs_1, cregs_1)\n",
    "    full_qc.measure(attack_qregs_2, cregs_2)\n",
    "    full_qc.measure(attack_qregs_3, cregs_3)\n",
    "    full_qc.name = qc.name\n",
    "    full_qcs.append(full_qc)\n"
   ]
  },
  {
   "cell_type": "code",
   "execution_count": 41,
   "metadata": {},
   "outputs": [],
   "source": [
    "pickle.dump( full_qcs, open( \"pickles/full_circs/four_qubit_chain_d1.p\", \"wb\" ) )"
   ]
  },
  {
   "cell_type": "code",
   "execution_count": null,
   "metadata": {},
   "outputs": [],
   "source": []
  },
  {
   "attachments": {},
   "cell_type": "markdown",
   "metadata": {},
   "source": [
    "# Bigger Victim - 4 qubits chain with 0135 - 16 qubit machine"
   ]
  },
  {
   "attachments": {},
   "cell_type": "markdown",
   "metadata": {},
   "source": [
    "## Params"
   ]
  },
  {
   "cell_type": "code",
   "execution_count": 29,
   "metadata": {},
   "outputs": [],
   "source": [
    "no_of_qubits = 16\n",
    "no_of_victims = 4\n",
    "no_of_attackers = 12\n",
    "no_of_ancilla = no_of_qubits - no_of_victims - no_of_attackers"
   ]
  },
  {
   "cell_type": "code",
   "execution_count": 30,
   "metadata": {},
   "outputs": [],
   "source": [
    "attack_qregs = QuantumRegister(no_of_attackers, name='a')\n",
    "victim_qregs = QuantumRegister(no_of_victims, name='v')\n",
    "ancilla_qregs = QuantumRegister(no_of_ancilla, name='ancilla')\n",
    "cregs = ClassicalRegister(no_of_attackers, 'c')"
   ]
  },
  {
   "attachments": {},
   "cell_type": "markdown",
   "metadata": {},
   "source": [
    "## Load Pickle"
   ]
  },
  {
   "cell_type": "code",
   "execution_count": 31,
   "metadata": {},
   "outputs": [],
   "source": [
    "with open('./pickles/victim_circs/four_qubit_chain_0135.p', 'rb') as f:\n",
    "    qcs_per_reps: list[QuantumCircuit]\n",
    "    qcs_per_reps = pickle.load(f)"
   ]
  },
  {
   "attachments": {},
   "cell_type": "markdown",
   "metadata": {},
   "source": [
    "## Full circs"
   ]
  },
  {
   "cell_type": "code",
   "execution_count": 32,
   "metadata": {},
   "outputs": [
    {
     "data": {
      "text/plain": [
       "<qiskit.circuit.instructionset.InstructionSet at 0x1d9400a4ac0>"
      ]
     },
     "execution_count": 32,
     "metadata": {},
     "output_type": "execute_result"
    }
   ],
   "source": [
    "intial_qc = QuantumCircuit(attack_qregs, victim_qregs, ancilla_qregs, cregs)\n",
    "intial_qc.h(attack_qregs)\n",
    "intial_qc.barrier()"
   ]
  },
  {
   "cell_type": "code",
   "execution_count": 33,
   "metadata": {},
   "outputs": [],
   "source": [
    "full_qcs_per_reps = {}\n",
    "for reps, qcs in qcs_per_reps.items():\n",
    "    full_qcs = []\n",
    "    for qc in qcs:\n",
    "        full_qc = intial_qc.compose(qc, victim_qregs)\n",
    "        full_qc.barrier()\n",
    "        full_qc.h(attack_qregs)\n",
    "        full_qc.measure(attack_qregs, cregs)\n",
    "        full_qcs.append(full_qc)\n",
    "    full_qcs_per_reps[reps] = full_qcs    \n"
   ]
  },
  {
   "cell_type": "code",
   "execution_count": 38,
   "metadata": {},
   "outputs": [],
   "source": [
    "pickle.dump(full_qcs_per_reps, open( \"pickles/full_circs/{}_qubit_machine_{}_qubit_chain_{}_snoopers.p\".format(no_of_qubits, no_of_victims, no_of_attackers), \"wb\" ) )"
   ]
  },
  {
   "cell_type": "code",
   "execution_count": null,
   "metadata": {},
   "outputs": [],
   "source": []
  }
 ],
 "metadata": {
  "kernelspec": {
   "display_name": "bench",
   "language": "python",
   "name": "python3"
  },
  "language_info": {
   "codemirror_mode": {
    "name": "ipython",
    "version": 3
   },
   "file_extension": ".py",
   "mimetype": "text/x-python",
   "name": "python",
   "nbconvert_exporter": "python",
   "pygments_lexer": "ipython3",
   "version": "3.11.0"
  },
  "orig_nbformat": 4
 },
 "nbformat": 4,
 "nbformat_minor": 2
}
