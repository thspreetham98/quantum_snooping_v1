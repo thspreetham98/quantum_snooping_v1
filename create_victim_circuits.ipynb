{
 "cells": [
  {
   "cell_type": "code",
   "execution_count": 1,
   "metadata": {},
   "outputs": [],
   "source": [
    "from models.victim_params import VictimParams\n",
    "from victim_circ_gen import random_2_qubit_circuit_one_way_cnot\n",
    "\n",
    "import pickle"
   ]
  },
  {
   "attachments": {},
   "cell_type": "markdown",
   "metadata": {},
   "source": [
    "# One-way CNOT"
   ]
  },
  {
   "cell_type": "code",
   "execution_count": 3,
   "metadata": {},
   "outputs": [],
   "source": [
    "params = VictimParams(2, 50, list(range(20)), 60)\n",
    "qcs = []\n",
    "\n",
    "for no_of_cnots in params.cnot_vals:\n",
    "    for i in range(params.no_of_circuits_per_cnot_val):\n",
    "        qc = random_2_qubit_circuit_one_way_cnot(no_of_cnots, params.max_circuit_depth)\n",
    "        qcs.append(qc)\n",
    "\n",
    "pickle.dump( (qcs, params), open( \"pickles/victim_circs/one_way_cnot_{}.p\".format(str(params.uuid)), \"wb\" ) )"
   ]
  },
  {
   "cell_type": "code",
   "execution_count": null,
   "metadata": {},
   "outputs": [],
   "source": []
  }
 ],
 "metadata": {
  "kernelspec": {
   "display_name": "bench",
   "language": "python",
   "name": "python3"
  },
  "language_info": {
   "codemirror_mode": {
    "name": "ipython",
    "version": 3
   },
   "file_extension": ".py",
   "mimetype": "text/x-python",
   "name": "python",
   "nbconvert_exporter": "python",
   "pygments_lexer": "ipython3",
   "version": "3.11.0"
  },
  "orig_nbformat": 4
 },
 "nbformat": 4,
 "nbformat_minor": 2
}
