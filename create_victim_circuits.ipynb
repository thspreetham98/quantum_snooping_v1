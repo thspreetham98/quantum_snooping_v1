{
 "cells": [
  {
   "cell_type": "code",
   "execution_count": 1,
   "metadata": {},
   "outputs": [],
   "source": [
    "from models.victim_params import VictimParams\n",
    "from victim_circ_gen import random_2_qubit_circuit_one_way_cnot, random_2_qubit_circuit_two_way_cnot\n",
    "import pickle\n",
    "from itertools import permutations, combinations\n",
    "\n",
    "from qiskit import QuantumCircuit, QuantumRegister"
   ]
  },
  {
   "attachments": {},
   "cell_type": "markdown",
   "metadata": {},
   "source": [
    "# One-way CNOT"
   ]
  },
  {
   "cell_type": "code",
   "execution_count": null,
   "metadata": {},
   "outputs": [],
   "source": [
    "params = VictimParams(2, 50, list(range(20)), 60)\n",
    "qcs = []\n",
    "\n",
    "for no_of_cnots in params.cnot_vals:\n",
    "    for number_of_cnots in range(params.no_of_circuits_per_cnot_val):\n",
    "        qc = random_2_qubit_circuit_one_way_cnot(no_of_cnots, params.max_circuit_depth)\n",
    "        qcs.append(qc)\n",
    "\n",
    "pickle.dump( (qcs, params), open( \"pickles/victim_circs/one_way_cnot_{}.p\".format(str(params.uuid)), \"wb\" ) )"
   ]
  },
  {
   "attachments": {},
   "cell_type": "markdown",
   "metadata": {},
   "source": [
    "# Two-way CNOTs"
   ]
  },
  {
   "cell_type": "code",
   "execution_count": null,
   "metadata": {},
   "outputs": [],
   "source": [
    "params = VictimParams(2, 50, list(range(20)), 60)\n",
    "qcs = []\n",
    "\n",
    "for no_of_cnots in params.cnot_vals:\n",
    "    for number_of_cnots in range(params.no_of_circuits_per_cnot_val):\n",
    "        qc = random_2_qubit_circuit_two_way_cnot(no_of_cnots, params.max_circuit_depth)\n",
    "        qcs.append(qc)\n",
    "\n",
    "pickle.dump( (qcs, params), open( \"pickles/victim_circs/two_way_cnot_{}.p\".format(str(params.uuid)), \"wb\" ) )"
   ]
  },
  {
   "attachments": {},
   "cell_type": "markdown",
   "metadata": {},
   "source": [
    "# Bigger Victim - 4 qubits chain with depth 1"
   ]
  },
  {
   "cell_type": "code",
   "execution_count": 2,
   "metadata": {},
   "outputs": [],
   "source": [
    "victim_qregs = QuantumRegister(4, name='vic')\n",
    "a, b, c, d = victim_qregs"
   ]
  },
  {
   "cell_type": "code",
   "execution_count": 3,
   "metadata": {},
   "outputs": [],
   "source": [
    "neighbours = {\n",
    "    a: (b, ),\n",
    "    b: (a, c),\n",
    "    c: (b, d),\n",
    "    d: (c, )\n",
    "}\n",
    "\n",
    "str_qubits = { a: 'a', b: 'b', c: 'c', d: 'd' }"
   ]
  },
  {
   "cell_type": "code",
   "execution_count": 4,
   "metadata": {},
   "outputs": [],
   "source": [
    "links = set()\n",
    "for ctrl, target in permutations(neighbours.keys(), 2):\n",
    "    if target in neighbours[ctrl]:\n",
    "        links.add((ctrl, target))"
   ]
  },
  {
   "cell_type": "code",
   "execution_count": 6,
   "metadata": {},
   "outputs": [],
   "source": [
    "qcs = []\n",
    "for number_of_cnots in (1, 2):\n",
    "    for cnot_ops in combinations(links, number_of_cnots):\n",
    "        qc = QuantumCircuit(victim_qregs)\n",
    "        names = []\n",
    "        for ctrl_q, target_q in cnot_ops:\n",
    "            qc.cx(ctrl_q, target_q)\n",
    "            names.append((str_qubits[ctrl_q], str_qubits[target_q]))\n",
    "        names.sort()\n",
    "        qc.name = str(names)\n",
    "        depth = qc.depth()\n",
    "        if depth == 1:\n",
    "            qcs.append(qc)"
   ]
  },
  {
   "cell_type": "code",
   "execution_count": 7,
   "metadata": {},
   "outputs": [
    {
     "data": {
      "text/plain": [
       "10"
      ]
     },
     "execution_count": 7,
     "metadata": {},
     "output_type": "execute_result"
    }
   ],
   "source": [
    "len(qcs)"
   ]
  },
  {
   "cell_type": "code",
   "execution_count": 8,
   "metadata": {},
   "outputs": [],
   "source": [
    "pickle.dump( qcs, open( \"pickles/victim_circs/four_qubit_chain_d1.p\", \"wb\" ) )"
   ]
  },
  {
   "cell_type": "code",
   "execution_count": null,
   "metadata": {},
   "outputs": [],
   "source": []
  },
  {
   "attachments": {},
   "cell_type": "markdown",
   "metadata": {},
   "source": [
    "# Bigger Victim - 4 qubits chain with depth 0, 1, 3, 5"
   ]
  },
  {
   "cell_type": "code",
   "execution_count": 2,
   "metadata": {},
   "outputs": [],
   "source": [
    "victim_qregs = QuantumRegister(4, name='vic')\n",
    "a, b, c, d = victim_qregs\n",
    "qcs_per_reps = {}"
   ]
  },
  {
   "attachments": {},
   "cell_type": "markdown",
   "metadata": {},
   "source": [
    "## Zero depth"
   ]
  },
  {
   "cell_type": "code",
   "execution_count": 3,
   "metadata": {},
   "outputs": [],
   "source": [
    "qc0 = QuantumCircuit(victim_qregs)\n",
    "qcs_per_reps[0] = [qc0]"
   ]
  },
  {
   "attachments": {},
   "cell_type": "markdown",
   "metadata": {},
   "source": [
    "## Non-zero depth"
   ]
  },
  {
   "cell_type": "code",
   "execution_count": 4,
   "metadata": {},
   "outputs": [],
   "source": [
    "non_zero_reps = (1, 3, 5)"
   ]
  },
  {
   "cell_type": "code",
   "execution_count": 5,
   "metadata": {},
   "outputs": [],
   "source": [
    "cx_gates_applied_per_circ = [\n",
    "    [[a, b]],\n",
    "    [[b, a]], \n",
    "    [[b, c]], \n",
    "    [[c, b]], \n",
    "    [[c, d]], \n",
    "    [[d, c]], \n",
    "    [[a, b], [c, d]], \n",
    "    [[a, b], [d, c]],\n",
    "    [[b, a], [c, d]], \n",
    "    [[b, a], [d, c]]\n",
    "]"
   ]
  },
  {
   "cell_type": "code",
   "execution_count": 6,
   "metadata": {},
   "outputs": [],
   "source": [
    "for rep in non_zero_reps:\n",
    "    qcs = []\n",
    "    for cx_gates_applied in cx_gates_applied_per_circ:\n",
    "        qc = QuantumCircuit(victim_qregs)\n",
    "        for i in range(rep):\n",
    "            for ctrl, target in cx_gates_applied:\n",
    "                qc.cx(ctrl, target)\n",
    "        qcs.append(qc)\n",
    "    qcs_per_reps[rep] = qcs"
   ]
  },
  {
   "attachments": {},
   "cell_type": "markdown",
   "metadata": {},
   "source": [
    "## Save to pickle"
   ]
  },
  {
   "cell_type": "code",
   "execution_count": 7,
   "metadata": {},
   "outputs": [],
   "source": [
    "pickle.dump( qcs_per_reps, open( \"pickles/victim_circs/four_qubit_chain_0135.p\", \"wb\" ) )"
   ]
  },
  {
   "cell_type": "code",
   "execution_count": null,
   "metadata": {},
   "outputs": [],
   "source": []
  }
 ],
 "metadata": {
  "kernelspec": {
   "display_name": "bench",
   "language": "python",
   "name": "python3"
  },
  "language_info": {
   "codemirror_mode": {
    "name": "ipython",
    "version": 3
   },
   "file_extension": ".py",
   "mimetype": "text/x-python",
   "name": "python",
   "nbconvert_exporter": "python",
   "pygments_lexer": "ipython3",
   "version": "3.11.3"
  },
  "orig_nbformat": 4
 },
 "nbformat": 4,
 "nbformat_minor": 2
}
