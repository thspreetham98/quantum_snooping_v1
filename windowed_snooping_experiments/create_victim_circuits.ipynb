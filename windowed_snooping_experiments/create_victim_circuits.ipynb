{
 "cells": [
  {
   "cell_type": "code",
   "execution_count": 1,
   "metadata": {},
   "outputs": [],
   "source": [
    "from models.victim_params import VictimParams\n",
    "from victim_circ_gen import random_2_qubit_circuit_one_way_cnot, random_2_qubit_circuit_two_way_cnot\n",
    "import pickle\n",
    "from itertools import permutations, combinations\n",
    "\n",
    "from qiskit import QuantumCircuit, QuantumRegister"
   ]
  },
  {
   "attachments": {},
   "cell_type": "markdown",
   "metadata": {},
   "source": [
    "# 4 qubits chain with CNOTs"
   ]
  },
  {
   "cell_type": "code",
   "execution_count": 2,
   "metadata": {},
   "outputs": [],
   "source": [
    "victim_qregs = QuantumRegister(4, name='vic')\n",
    "a, b, c, d = victim_qregs"
   ]
  },
  {
   "attachments": {},
   "cell_type": "markdown",
   "metadata": {},
   "source": [
    "## Empty"
   ]
  },
  {
   "cell_type": "code",
   "execution_count": 4,
   "metadata": {},
   "outputs": [],
   "source": [
    "empty_qc = QuantumCircuit(victim_qregs, name='empty')"
   ]
  },
  {
   "attachments": {},
   "cell_type": "markdown",
   "metadata": {},
   "source": [
    "## One CNOT"
   ]
  },
  {
   "cell_type": "code",
   "execution_count": 7,
   "metadata": {},
   "outputs": [
    {
     "data": {
      "text/plain": [
       "<qiskit.circuit.instructionset.InstructionSet at 0x256277e0190>"
      ]
     },
     "execution_count": 7,
     "metadata": {},
     "output_type": "execute_result"
    }
   ],
   "source": [
    "one_cnot_qc = QuantumCircuit(2, name='one cnot')\n",
    "one_cnot_qc.cx(0, 1)"
   ]
  },
  {
   "cell_type": "code",
   "execution_count": 39,
   "metadata": {},
   "outputs": [],
   "source": [
    "one_cnot_qcs = []\n",
    "\n",
    "for qubit_1 in range(len(victim_qregs) - 1):\n",
    "    qubit_2 = qubit_1 + 1\n",
    "    qc1 = empty_qc.compose(one_cnot_qc, (qubit_1, qubit_2))\n",
    "    qc1.name = str([(qubit_1, qubit_2),])\n",
    "    qc2 = empty_qc.compose(one_cnot_qc, (qubit_2, qubit_1))\n",
    "    qc2.name = str([(qubit_2, qubit_1),])\n",
    "    one_cnot_qcs.append(qc1)\n",
    "    one_cnot_qcs.append(qc2)\n"
   ]
  },
  {
   "attachments": {},
   "cell_type": "markdown",
   "metadata": {},
   "source": [
    "## Two CNOTs"
   ]
  },
  {
   "cell_type": "code",
   "execution_count": 40,
   "metadata": {},
   "outputs": [],
   "source": [
    "pair_1 = ((0, 1), (1, 0))\n",
    "pair_2 = ((2, 3), (3, 2))\n",
    "\n",
    "two_cnot_qcs = []\n",
    "\n",
    "for control_1, target_1 in pair_1:\n",
    "    for control_2, target_2 in pair_2:\n",
    "        qc = empty_qc.compose(one_cnot_qc, (control_1, target_1)).compose(one_cnot_qc, (control_2, target_2))\n",
    "        qc.name = str([(control_1, target_1), (control_2, target_2)])\n",
    "        two_cnot_qcs.append(qc)"
   ]
  },
  {
   "attachments": {},
   "cell_type": "markdown",
   "metadata": {},
   "source": [
    "## Save to pickle"
   ]
  },
  {
   "cell_type": "code",
   "execution_count": 41,
   "metadata": {},
   "outputs": [],
   "source": [
    "pickle.dump( (one_cnot_qcs, two_cnot_qcs), open( \"./windowed_snooping_experiments/victim_1.p\", \"wb\" ) )"
   ]
  },
  {
   "cell_type": "code",
   "execution_count": null,
   "metadata": {},
   "outputs": [],
   "source": []
  }
 ],
 "metadata": {
  "kernelspec": {
   "display_name": "bench",
   "language": "python",
   "name": "python3"
  },
  "language_info": {
   "codemirror_mode": {
    "name": "ipython",
    "version": 3
   },
   "file_extension": ".py",
   "mimetype": "text/x-python",
   "name": "python",
   "nbconvert_exporter": "python",
   "pygments_lexer": "ipython3",
   "version": "3.11.3"
  },
  "orig_nbformat": 4
 },
 "nbformat": 4,
 "nbformat_minor": 2
}
